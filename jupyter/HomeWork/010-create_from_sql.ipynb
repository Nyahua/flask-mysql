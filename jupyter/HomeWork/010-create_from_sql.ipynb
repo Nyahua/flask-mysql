{
 "cells": [
  {
   "cell_type": "code",
   "execution_count": 1,
   "id": "f2cf64d0-38f9-4554-b344-b8d72edad973",
   "metadata": {},
   "outputs": [],
   "source": [
    "import os\n",
    "import sqlite3\n",
    "import pandas as pd\n",
    "\n",
    "def executescript(connection, sql_script):\n",
    "    cursor = connection.cursor()\n",
    "    try:\n",
    "        cursor.executescript(sql_script)\n",
    "        connection.commit()\n",
    "        print(f\"script executed successfully.\")\n",
    "    except Exception as e:\n",
    "        # Rollback in case of an error\n",
    "        connection.rollback()\n",
    "        print(f\"Error: {e}\")\n",
    "    finally:\n",
    "        # Close the connection\n",
    "        connection.close()"
   ]
  },
  {
   "cell_type": "markdown",
   "id": "1f3251a7-bef2-426a-bf85-f6845f0383b9",
   "metadata": {},
   "source": [
    "### Create the database and input data from SQL file"
   ]
  },
  {
   "cell_type": "code",
   "execution_count": 2,
   "id": "d7278f76-83a7-4561-b19e-c2ded6061989",
   "metadata": {},
   "outputs": [
    {
     "name": "stdout",
     "output_type": "stream",
     "text": [
      "script executed successfully.\n"
     ]
    }
   ],
   "source": [
    "sql_file = 'movie.sql'\n",
    "db_file = 'movieDB.db'\n",
    "\n",
    "if os.path.exists(db_file):\n",
    "    os.remove(db_file)\n",
    "    \n",
    "with open(sql_file, 'r') as file:\n",
    "    sql_script = file.read()\n",
    "\n",
    "connection = sqlite3.connect(db_file)    \n",
    "cur = executescript(connection, sql_script)"
   ]
  },
  {
   "cell_type": "markdown",
   "id": "ec6013db-4fd9-4918-a771-4bb66952eb60",
   "metadata": {},
   "source": [
    "### Create Relationship table for Actors"
   ]
  },
  {
   "cell_type": "code",
   "execution_count": 3,
   "id": "582e096f-ab99-4a57-9b1f-4e1cd60d7be3",
   "metadata": {},
   "outputs": [
    {
     "name": "stdout",
     "output_type": "stream",
     "text": [
      "script executed successfully.\n"
     ]
    }
   ],
   "source": [
    "sql_script = \"\"\"\n",
    "CREATE TABLE movie_actor_association AS\n",
    "SELECT movie_id, actor_id\n",
    "FROM movie_actor_relation\n",
    "WHERE relation_type=\"主演\";\n",
    "\"\"\"\n",
    "connection = sqlite3.connect(db_file)    \n",
    "cur = executescript(connection, sql_script)"
   ]
  },
  {
   "cell_type": "code",
   "execution_count": 4,
   "id": "6bf2ec87-8dec-40ba-b6b4-fca136973030",
   "metadata": {},
   "outputs": [
    {
     "data": {
      "text/plain": [
       "[(1001, '战狼2', '2017/7/27', '中国', '战争', 2017),\n",
       " (1002, '哪吒之魔童降世', '2019/7/26', '中国', '动画', 2019),\n",
       " (1003, '流浪地球', '2019/2/5', '中国', '科幻', 2019),\n",
       " (1004, '复仇者联盟4', '2019/4/24', '美国', '科幻', 2019),\n",
       " (1005, '红海行动', '2018/2/16', '中国', '战争', 2018),\n",
       " (1006, '唐人街探案2', '2018/2/16', '中国', '喜剧', 2018),\n",
       " (1007, '我不是药神', '2018/7/5', '中国', '喜剧', 2018),\n",
       " (1008, '中国机长', '2019/9/30', '中国', '剧情', 2019),\n",
       " (1009, '速度与激情8', '2017/4/14', '美国', '动作', 2017),\n",
       " (1010, '西虹市首富', '2018/7/27', '中国', '喜剧', 2018),\n",
       " (1011, '复仇者联盟3', '2018/5/11', '美国', '科幻', 2018),\n",
       " (1012, '捉妖记2', '2018/2/16', '中国', '喜剧', 2018),\n",
       " (1013, '八佰', '2020/08/21', '中国', '战争', 2020),\n",
       " (1014, '姜子牙', '2020/10/01', '中国', '动画', 2020),\n",
       " (1015, '我和我的家乡', '2020/10/01', '中国', '剧情', 2020),\n",
       " (1016, '你好，李焕英', '2021/02/12', '中国', '喜剧', 2021),\n",
       " (1017, '长津湖', '2021/09/30', '中国', '战争', 2021),\n",
       " (1018, '速度与激情9', '2021/05/21', '中国', '动作', 2021)]"
      ]
     },
     "execution_count": 4,
     "metadata": {},
     "output_type": "execute_result"
    }
   ],
   "source": [
    "connection = sqlite3.connect(db_file)  \n",
    "query = \"SELECT * FROM movie_info;\"\n",
    "connection.execute(query).fetchall()"
   ]
  },
  {
   "cell_type": "code",
   "execution_count": 5,
   "id": "60c7d6ab-93ab-417c-95df-adea8d884c81",
   "metadata": {},
   "outputs": [
    {
     "data": {
      "text/plain": [
       "[(1001, 2001),\n",
       " (1003, 2001),\n",
       " (1003, 2003),\n",
       " (1004, 2006),\n",
       " (1004, 2007),\n",
       " (1005, 2009),\n",
       " (1005, 2010),\n",
       " (1006, 2012),\n",
       " (1006, 2013),\n",
       " (1007, 2015),\n",
       " (1008, 2017),\n",
       " (1009, 2019),\n",
       " (1009, 2020),\n",
       " (1010, 2022),\n",
       " (1011, 2006),\n",
       " (1011, 2024),\n",
       " (1012, 2026),\n",
       " (1012, 2027),\n",
       " (1012, 2028),\n",
       " (1013, 2030),\n",
       " (1013, 2009),\n",
       " (1013, 2031),\n",
       " (1015, 2015),\n",
       " (1015, 2033),\n",
       " (1015, 2034),\n",
       " (1016, 2035),\n",
       " (1016, 2036),\n",
       " (1016, 2022),\n",
       " (1017, 2001),\n",
       " (1017, 2039),\n",
       " (1018, 2019),\n",
       " (1018, 2041)]"
      ]
     },
     "execution_count": 5,
     "metadata": {},
     "output_type": "execute_result"
    }
   ],
   "source": [
    "query = \"SELECT * FROM movie_actor_association;\"\n",
    "connection.execute(query).fetchall()"
   ]
  },
  {
   "cell_type": "code",
   "execution_count": null,
   "id": "ca42f35a-2d79-4aab-99d4-4128ad31d139",
   "metadata": {},
   "outputs": [],
   "source": []
  },
  {
   "cell_type": "code",
   "execution_count": null,
   "id": "868cbba1-3a10-4517-942a-e94e5185e474",
   "metadata": {},
   "outputs": [],
   "source": []
  }
 ],
 "metadata": {
  "kernelspec": {
   "display_name": "Python 3 (ipykernel)",
   "language": "python",
   "name": "python3"
  },
  "language_info": {
   "codemirror_mode": {
    "name": "ipython",
    "version": 3
   },
   "file_extension": ".py",
   "mimetype": "text/x-python",
   "name": "python",
   "nbconvert_exporter": "python",
   "pygments_lexer": "ipython3",
   "version": "3.10.9"
  }
 },
 "nbformat": 4,
 "nbformat_minor": 5
}
