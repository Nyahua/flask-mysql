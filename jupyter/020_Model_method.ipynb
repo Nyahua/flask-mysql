{
 "cells": [
  {
   "cell_type": "markdown",
   "id": "4717a7c8-3061-4393-8ca5-b2ff5ebc3e2c",
   "metadata": {},
   "source": [
    "## Model"
   ]
  },
  {
   "cell_type": "code",
   "execution_count": 46,
   "id": "46296980-9efa-4292-a09b-b4cc221e93ba",
   "metadata": {},
   "outputs": [],
   "source": [
    "from pathlib import Path\n",
    "import pandas as pd\n",
    "\n",
    "from flask import Flask \n",
    "from flask_sqlalchemy import SQLAlchemy\n",
    "from sqlalchemy import text\n",
    "from sqlalchemy.sql import func\n",
    "\n",
    "\n",
    "app = Flask(__name__)\n",
    "app.config['SQLALCHEMY_DATABASE_URI'] = 'sqlite:////' + str(Path.cwd() / 'movieDB.db')\n",
    "app.config['SQLALCHEMY_TRACK_MODIFICATIONS'] = False \n",
    "app.app_context().push()\n",
    "\n",
    "db = SQLAlchemy(app)\n",
    "\n",
    "# many to many relation\n",
    "movie_actor_association = db.Table(\n",
    "    'movie_actor_relation',\n",
    "    db.Column('id',  db.Integer, primary_key=True, autoincrement=True),\n",
    "    db.Column('movie_id', db.String(10), db.ForeignKey('movie_info.movie_id')),\n",
    "    db.Column('actor_id', db.Integer, db.ForeignKey('actor_info.actor_id')),\n",
    "    db.Column('relation_type', db.String(20))\n",
    ")\n",
    "\n",
    "class Movie(db.Model):\n",
    "    __tablename__ = 'movie_info'\n",
    "\n",
    "    movie_id = db.Column(db.Integer, primary_key=True, autoincrement=True)\n",
    "    movie_name = db.Column(db.String(20))\n",
    "    release_date = db.Column(db.String(15))\n",
    "    country = db.Column(db.String(20))\n",
    "    type = db.Column(db.String(10))\n",
    "    year = db.Column(db.Integer)\n",
    "    \n",
    "    moviebox = db.relationship('MovieBox', backref='movie_info', uselist=False)\n",
    "    actors = db.relationship('Actor', secondary=movie_actor_association, backref='movies')\n",
    "    \n",
    "    def __repr__(self):\n",
    "        return f'<Movie {self.movie_name}>'\n",
    "    \n",
    "class Actor(db.Model):\n",
    "    __tablename__ = 'actor_info'\n",
    "\n",
    "    actor_id = db.Column(db.Integer, primary_key=True, autoincrement=True)\n",
    "    actor_name = db.Column(db.String(20))\n",
    "    gender = db.Column(db.String(2))\n",
    "    country = db.Column(db.String(20))\n",
    "    \n",
    "    movies = db.relationship('Movie', secondary=movie_actor_association, back_populates='actors')\n",
    "    \n",
    "    \n",
    "    def __repr__(self):\n",
    "        return f'<Actor {self.actor_name}>'    \n",
    "    \n",
    "# one to one relation\n",
    "class MovieBox(db.Model):\n",
    "    __tablename__ = 'movie_box'\n",
    "    movie_id = db.Column(db.String(10), db.ForeignKey('movie_info.movie_id'), unique=True, nullable=False, primary_key=True)\n",
    "    box = db.Column(db.Float)"
   ]
  },
  {
   "cell_type": "markdown",
   "id": "ebc58bb8-39c6-4dea-b397-6debfcb5683f",
   "metadata": {},
   "source": [
    "## Method\n",
    "> basic opertions and CRUD"
   ]
  },
  {
   "cell_type": "code",
   "execution_count": 47,
   "id": "d9512260-ec0d-484b-8ddc-8d112710d33e",
   "metadata": {},
   "outputs": [
    {
     "data": {
      "text/html": [
       "<div>\n",
       "<style scoped>\n",
       "    .dataframe tbody tr th:only-of-type {\n",
       "        vertical-align: middle;\n",
       "    }\n",
       "\n",
       "    .dataframe tbody tr th {\n",
       "        vertical-align: top;\n",
       "    }\n",
       "\n",
       "    .dataframe thead th {\n",
       "        text-align: right;\n",
       "    }\n",
       "</style>\n",
       "<table border=\"1\" class=\"dataframe\">\n",
       "  <thead>\n",
       "    <tr style=\"text-align: right;\">\n",
       "      <th></th>\n",
       "      <th>movie_id</th>\n",
       "      <th>movie_name</th>\n",
       "      <th>release_date</th>\n",
       "      <th>country</th>\n",
       "      <th>type</th>\n",
       "      <th>year</th>\n",
       "    </tr>\n",
       "  </thead>\n",
       "  <tbody>\n",
       "    <tr>\n",
       "      <th>0</th>\n",
       "      <td>1001</td>\n",
       "      <td>战狼2</td>\n",
       "      <td>2017/7/27</td>\n",
       "      <td>中国</td>\n",
       "      <td>战争</td>\n",
       "      <td>2017</td>\n",
       "    </tr>\n",
       "    <tr>\n",
       "      <th>1</th>\n",
       "      <td>1002</td>\n",
       "      <td>哪吒之魔童降世</td>\n",
       "      <td>2019/7/26</td>\n",
       "      <td>中国</td>\n",
       "      <td>动画</td>\n",
       "      <td>2019</td>\n",
       "    </tr>\n",
       "    <tr>\n",
       "      <th>2</th>\n",
       "      <td>1003</td>\n",
       "      <td>流浪地球</td>\n",
       "      <td>2019/2/5</td>\n",
       "      <td>中国</td>\n",
       "      <td>科幻</td>\n",
       "      <td>2019</td>\n",
       "    </tr>\n",
       "    <tr>\n",
       "      <th>3</th>\n",
       "      <td>1004</td>\n",
       "      <td>复仇者联盟4</td>\n",
       "      <td>2019/4/24</td>\n",
       "      <td>美国</td>\n",
       "      <td>科幻</td>\n",
       "      <td>2019</td>\n",
       "    </tr>\n",
       "    <tr>\n",
       "      <th>4</th>\n",
       "      <td>1005</td>\n",
       "      <td>红海行动</td>\n",
       "      <td>2018/2/16</td>\n",
       "      <td>中国</td>\n",
       "      <td>战争</td>\n",
       "      <td>2018</td>\n",
       "    </tr>\n",
       "  </tbody>\n",
       "</table>\n",
       "</div>"
      ],
      "text/plain": [
       "  movie_id movie_name release_date country type  year\n",
       "0     1001        战狼2    2017/7/27      中国   战争  2017\n",
       "1     1002    哪吒之魔童降世    2019/7/26      中国   动画  2019\n",
       "2     1003       流浪地球     2019/2/5      中国   科幻  2019\n",
       "3     1004     复仇者联盟4    2019/4/24      美国   科幻  2019\n",
       "4     1005       红海行动    2018/2/16      中国   战争  2018"
      ]
     },
     "execution_count": 47,
     "metadata": {},
     "output_type": "execute_result"
    }
   ],
   "source": [
    "def table_dataframe(table_class):\n",
    "    query = text(f\"SELECT * FROM {table_class.__tablename__};\")\n",
    "    with db.engine.connect() as connection:\n",
    "        result = connection.execute(query)\n",
    "    return pd.DataFrame(result)\n",
    "\n",
    "def select_to_dataframe(query):\n",
    "    with db.engine.connect() as connection:\n",
    "        result = connection.execute(text(query))\n",
    "    return pd.DataFrame(result)\n",
    "\n",
    "table_dataframe(Movie).head()"
   ]
  },
  {
   "cell_type": "code",
   "execution_count": null,
   "id": "62dfbf4a-2e34-499f-b636-97afa7d9f3c6",
   "metadata": {},
   "outputs": [],
   "source": []
  },
  {
   "cell_type": "code",
   "execution_count": 50,
   "id": "1c7d8518-4536-4237-88fa-d61c6f1660cb",
   "metadata": {},
   "outputs": [
    {
     "ename": "InvalidRequestError",
     "evalue": "One or more mappers failed to initialize - can't proceed with initialization of other mappers. Triggering mapper: 'Mapper[Movie(movie_info)]'. Original exception was: Error creating backref 'movies' on relationship 'Movie.actors': property of that name exists on mapper 'Mapper[Actor(actor_info)]'",
     "output_type": "error",
     "traceback": [
      "\u001b[0;31m---------------------------------------------------------------------------\u001b[0m",
      "\u001b[0;31mInvalidRequestError\u001b[0m                       Traceback (most recent call last)",
      "Cell \u001b[0;32mIn[50], line 53\u001b[0m\n\u001b[1;32m     34\u001b[0m new_movie \u001b[38;5;241m=\u001b[39m \u001b[38;5;28mdict\u001b[39m(\n\u001b[1;32m     35\u001b[0m     movie_name\u001b[38;5;241m=\u001b[39m\u001b[38;5;124m'\u001b[39m\u001b[38;5;124m坚如磐石\u001b[39m\u001b[38;5;124m'\u001b[39m, \n\u001b[1;32m     36\u001b[0m     release_date\u001b[38;5;241m=\u001b[39m\u001b[38;5;124m'\u001b[39m\u001b[38;5;124m2013/10/1\u001b[39m\u001b[38;5;124m'\u001b[39m,\n\u001b[0;32m   (...)\u001b[0m\n\u001b[1;32m     41\u001b[0m     moviebox\u001b[38;5;241m=\u001b[39m\u001b[38;5;241m15.5\u001b[39m\n\u001b[1;32m     42\u001b[0m )\n\u001b[1;32m     44\u001b[0m new_movie \u001b[38;5;241m=\u001b[39m \u001b[38;5;28mdict\u001b[39m(\n\u001b[1;32m     45\u001b[0m     movie_name\u001b[38;5;241m=\u001b[39m\u001b[38;5;124m'\u001b[39m\u001b[38;5;124m满江红\u001b[39m\u001b[38;5;124m'\u001b[39m, \n\u001b[1;32m     46\u001b[0m     release_date\u001b[38;5;241m=\u001b[39m\u001b[38;5;124m'\u001b[39m\u001b[38;5;124m2013/5/15\u001b[39m\u001b[38;5;124m'\u001b[39m,\n\u001b[0;32m   (...)\u001b[0m\n\u001b[1;32m     51\u001b[0m     moviebox\u001b[38;5;241m=\u001b[39m\u001b[38;5;241m15.5\u001b[39m\n\u001b[1;32m     52\u001b[0m )\n\u001b[0;32m---> 53\u001b[0m \u001b[43mcreate_movie\u001b[49m\u001b[43m(\u001b[49m\u001b[38;5;241;43m*\u001b[39;49m\u001b[38;5;241;43m*\u001b[39;49m\u001b[43mnew_movie\u001b[49m\u001b[43m)\u001b[49m\n",
      "Cell \u001b[0;32mIn[50], line 26\u001b[0m, in \u001b[0;36mcreate_movie\u001b[0;34m(movie_name, release_date, country, type, year, actors, moviebox)\u001b[0m\n\u001b[1;32m     25\u001b[0m \u001b[38;5;28;01mdef\u001b[39;00m \u001b[38;5;21mcreate_movie\u001b[39m(movie_name, release_date, country, \u001b[38;5;28mtype\u001b[39m, year, actors, moviebox):\n\u001b[0;32m---> 26\u001b[0m     movie \u001b[38;5;241m=\u001b[39m \u001b[43mMovie\u001b[49m\u001b[43m(\u001b[49m\u001b[43mmovie_name\u001b[49m\u001b[38;5;241;43m=\u001b[39;49m\u001b[43mmovie_name\u001b[49m\u001b[43m,\u001b[49m\u001b[43m \u001b[49m\u001b[43mrelease_date\u001b[49m\u001b[38;5;241;43m=\u001b[39;49m\u001b[43mrelease_date\u001b[49m\u001b[43m,\u001b[49m\u001b[43m \u001b[49m\u001b[43mcountry\u001b[49m\u001b[38;5;241;43m=\u001b[39;49m\u001b[43mcountry\u001b[49m\u001b[43m,\u001b[49m\u001b[43m \u001b[49m\u001b[38;5;28;43mtype\u001b[39;49m\u001b[38;5;241;43m=\u001b[39;49m\u001b[38;5;28;43mtype\u001b[39;49m\u001b[43m,\u001b[49m\u001b[43m \u001b[49m\u001b[43myear\u001b[49m\u001b[38;5;241;43m=\u001b[39;49m\u001b[43myear\u001b[49m\u001b[43m)\u001b[49m\n\u001b[1;32m     27\u001b[0m     \u001b[38;5;66;03m# movie.actors  = [find_or_add_actor(actor) for actor in actors]\u001b[39;00m\n\u001b[1;32m     28\u001b[0m     \u001b[38;5;28;01mfor\u001b[39;00m actor \u001b[38;5;129;01min\u001b[39;00m actors:\n",
      "File \u001b[0;32m<string>:4\u001b[0m, in \u001b[0;36m__init__\u001b[0;34m(self, **kwargs)\u001b[0m\n",
      "File \u001b[0;32m~/.local/lib/python3.10/site-packages/sqlalchemy/orm/state.py:561\u001b[0m, in \u001b[0;36mInstanceState._initialize_instance\u001b[0;34m(*mixed, **kwargs)\u001b[0m\n\u001b[1;32m    558\u001b[0m \u001b[38;5;28mself\u001b[39m, instance, args \u001b[38;5;241m=\u001b[39m mixed[\u001b[38;5;241m0\u001b[39m], mixed[\u001b[38;5;241m1\u001b[39m], mixed[\u001b[38;5;241m2\u001b[39m:]  \u001b[38;5;66;03m# noqa\u001b[39;00m\n\u001b[1;32m    559\u001b[0m manager \u001b[38;5;241m=\u001b[39m \u001b[38;5;28mself\u001b[39m\u001b[38;5;241m.\u001b[39mmanager\n\u001b[0;32m--> 561\u001b[0m \u001b[43mmanager\u001b[49m\u001b[38;5;241;43m.\u001b[39;49m\u001b[43mdispatch\u001b[49m\u001b[38;5;241;43m.\u001b[39;49m\u001b[43minit\u001b[49m\u001b[43m(\u001b[49m\u001b[38;5;28;43mself\u001b[39;49m\u001b[43m,\u001b[49m\u001b[43m \u001b[49m\u001b[43margs\u001b[49m\u001b[43m,\u001b[49m\u001b[43m \u001b[49m\u001b[43mkwargs\u001b[49m\u001b[43m)\u001b[49m\n\u001b[1;32m    563\u001b[0m \u001b[38;5;28;01mtry\u001b[39;00m:\n\u001b[1;32m    564\u001b[0m     manager\u001b[38;5;241m.\u001b[39moriginal_init(\u001b[38;5;241m*\u001b[39mmixed[\u001b[38;5;241m1\u001b[39m:], \u001b[38;5;241m*\u001b[39m\u001b[38;5;241m*\u001b[39mkwargs)\n",
      "File \u001b[0;32m~/.local/lib/python3.10/site-packages/sqlalchemy/event/attr.py:487\u001b[0m, in \u001b[0;36m_CompoundListener.__call__\u001b[0;34m(self, *args, **kw)\u001b[0m\n\u001b[1;32m    485\u001b[0m     fn(\u001b[38;5;241m*\u001b[39margs, \u001b[38;5;241m*\u001b[39m\u001b[38;5;241m*\u001b[39mkw)\n\u001b[1;32m    486\u001b[0m \u001b[38;5;28;01mfor\u001b[39;00m fn \u001b[38;5;129;01min\u001b[39;00m \u001b[38;5;28mself\u001b[39m\u001b[38;5;241m.\u001b[39mlisteners:\n\u001b[0;32m--> 487\u001b[0m     \u001b[43mfn\u001b[49m\u001b[43m(\u001b[49m\u001b[38;5;241;43m*\u001b[39;49m\u001b[43margs\u001b[49m\u001b[43m,\u001b[49m\u001b[43m \u001b[49m\u001b[38;5;241;43m*\u001b[39;49m\u001b[38;5;241;43m*\u001b[39;49m\u001b[43mkw\u001b[49m\u001b[43m)\u001b[49m\n",
      "File \u001b[0;32m~/.local/lib/python3.10/site-packages/sqlalchemy/orm/mapper.py:4391\u001b[0m, in \u001b[0;36m_event_on_init\u001b[0;34m(state, args, kwargs)\u001b[0m\n\u001b[1;32m   4389\u001b[0m instrumenting_mapper \u001b[38;5;241m=\u001b[39m state\u001b[38;5;241m.\u001b[39mmanager\u001b[38;5;241m.\u001b[39mmapper\n\u001b[1;32m   4390\u001b[0m \u001b[38;5;28;01mif\u001b[39;00m instrumenting_mapper:\n\u001b[0;32m-> 4391\u001b[0m     \u001b[43minstrumenting_mapper\u001b[49m\u001b[38;5;241;43m.\u001b[39;49m\u001b[43m_check_configure\u001b[49m\u001b[43m(\u001b[49m\u001b[43m)\u001b[49m\n\u001b[1;32m   4392\u001b[0m     \u001b[38;5;28;01mif\u001b[39;00m instrumenting_mapper\u001b[38;5;241m.\u001b[39m_set_polymorphic_identity:\n\u001b[1;32m   4393\u001b[0m         instrumenting_mapper\u001b[38;5;241m.\u001b[39m_set_polymorphic_identity(state)\n",
      "File \u001b[0;32m~/.local/lib/python3.10/site-packages/sqlalchemy/orm/mapper.py:2386\u001b[0m, in \u001b[0;36mMapper._check_configure\u001b[0;34m(self)\u001b[0m\n\u001b[1;32m   2378\u001b[0m \u001b[38;5;129m@util\u001b[39m\u001b[38;5;241m.\u001b[39mlanghelpers\u001b[38;5;241m.\u001b[39mtag_method_for_warnings(\n\u001b[1;32m   2379\u001b[0m     \u001b[38;5;124m\"\u001b[39m\u001b[38;5;124mThis warning originated from the `configure_mappers()` process, \u001b[39m\u001b[38;5;124m\"\u001b[39m\n\u001b[1;32m   2380\u001b[0m     \u001b[38;5;124m\"\u001b[39m\u001b[38;5;124mwhich was invoked automatically in response to a user-initiated \u001b[39m\u001b[38;5;124m\"\u001b[39m\n\u001b[0;32m   (...)\u001b[0m\n\u001b[1;32m   2383\u001b[0m )\n\u001b[1;32m   2384\u001b[0m \u001b[38;5;28;01mdef\u001b[39;00m \u001b[38;5;21m_check_configure\u001b[39m(\u001b[38;5;28mself\u001b[39m) \u001b[38;5;241m-\u001b[39m\u001b[38;5;241m>\u001b[39m \u001b[38;5;28;01mNone\u001b[39;00m:\n\u001b[1;32m   2385\u001b[0m     \u001b[38;5;28;01mif\u001b[39;00m \u001b[38;5;28mself\u001b[39m\u001b[38;5;241m.\u001b[39mregistry\u001b[38;5;241m.\u001b[39m_new_mappers:\n\u001b[0;32m-> 2386\u001b[0m         \u001b[43m_configure_registries\u001b[49m\u001b[43m(\u001b[49m\u001b[43m{\u001b[49m\u001b[38;5;28;43mself\u001b[39;49m\u001b[38;5;241;43m.\u001b[39;49m\u001b[43mregistry\u001b[49m\u001b[43m}\u001b[49m\u001b[43m,\u001b[49m\u001b[43m \u001b[49m\u001b[43mcascade\u001b[49m\u001b[38;5;241;43m=\u001b[39;49m\u001b[38;5;28;43;01mTrue\u001b[39;49;00m\u001b[43m)\u001b[49m\n",
      "File \u001b[0;32m~/.local/lib/python3.10/site-packages/sqlalchemy/orm/mapper.py:4199\u001b[0m, in \u001b[0;36m_configure_registries\u001b[0;34m(registries, cascade)\u001b[0m\n\u001b[1;32m   4193\u001b[0m     Mapper\u001b[38;5;241m.\u001b[39mdispatch\u001b[38;5;241m.\u001b[39m_for_class(Mapper)\u001b[38;5;241m.\u001b[39mbefore_configured()  \u001b[38;5;66;03m# type: ignore # noqa: E501\u001b[39;00m\n\u001b[1;32m   4194\u001b[0m     \u001b[38;5;66;03m# initialize properties on all mappers\u001b[39;00m\n\u001b[1;32m   4195\u001b[0m     \u001b[38;5;66;03m# note that _mapper_registry is unordered, which\u001b[39;00m\n\u001b[1;32m   4196\u001b[0m     \u001b[38;5;66;03m# may randomly conceal/reveal issues related to\u001b[39;00m\n\u001b[1;32m   4197\u001b[0m     \u001b[38;5;66;03m# the order of mapper compilation\u001b[39;00m\n\u001b[0;32m-> 4199\u001b[0m     \u001b[43m_do_configure_registries\u001b[49m\u001b[43m(\u001b[49m\u001b[43mregistries\u001b[49m\u001b[43m,\u001b[49m\u001b[43m \u001b[49m\u001b[43mcascade\u001b[49m\u001b[43m)\u001b[49m\n\u001b[1;32m   4200\u001b[0m \u001b[38;5;28;01mfinally\u001b[39;00m:\n\u001b[1;32m   4201\u001b[0m     _already_compiling \u001b[38;5;241m=\u001b[39m \u001b[38;5;28;01mFalse\u001b[39;00m\n",
      "File \u001b[0;32m~/.local/lib/python3.10/site-packages/sqlalchemy/orm/mapper.py:4236\u001b[0m, in \u001b[0;36m_do_configure_registries\u001b[0;34m(registries, cascade)\u001b[0m\n\u001b[1;32m   4228\u001b[0m     e \u001b[38;5;241m=\u001b[39m sa_exc\u001b[38;5;241m.\u001b[39mInvalidRequestError(\n\u001b[1;32m   4229\u001b[0m         \u001b[38;5;124m\"\u001b[39m\u001b[38;5;124mOne or more mappers failed to initialize - \u001b[39m\u001b[38;5;124m\"\u001b[39m\n\u001b[1;32m   4230\u001b[0m         \u001b[38;5;124m\"\u001b[39m\u001b[38;5;124mcan\u001b[39m\u001b[38;5;124m'\u001b[39m\u001b[38;5;124mt proceed with initialization of other \u001b[39m\u001b[38;5;124m\"\u001b[39m\n\u001b[0;32m   (...)\u001b[0m\n\u001b[1;32m   4233\u001b[0m         \u001b[38;5;241m%\u001b[39m (mapper, mapper\u001b[38;5;241m.\u001b[39m_configure_failed)\n\u001b[1;32m   4234\u001b[0m     )\n\u001b[1;32m   4235\u001b[0m     e\u001b[38;5;241m.\u001b[39m_configure_failed \u001b[38;5;241m=\u001b[39m mapper\u001b[38;5;241m.\u001b[39m_configure_failed  \u001b[38;5;66;03m# type: ignore\u001b[39;00m\n\u001b[0;32m-> 4236\u001b[0m     \u001b[38;5;28;01mraise\u001b[39;00m e\n\u001b[1;32m   4238\u001b[0m \u001b[38;5;28;01mif\u001b[39;00m \u001b[38;5;129;01mnot\u001b[39;00m mapper\u001b[38;5;241m.\u001b[39mconfigured:\n\u001b[1;32m   4239\u001b[0m     \u001b[38;5;28;01mtry\u001b[39;00m:\n",
      "\u001b[0;31mInvalidRequestError\u001b[0m: One or more mappers failed to initialize - can't proceed with initialization of other mappers. Triggering mapper: 'Mapper[Movie(movie_info)]'. Original exception was: Error creating backref 'movies' on relationship 'Movie.actors': property of that name exists on mapper 'Mapper[Actor(actor_info)]'"
     ]
    }
   ],
   "source": [
    "def table_dataframe(table_class):\n",
    "    query = text(f\"SELECT * FROM {table_class.__tablename__};\")\n",
    "    with db.engine.connect() as connection:\n",
    "        result = connection.execute(query)\n",
    "    return pd.DataFrame(result)\n",
    "\n",
    "def select_to_dataframe(query):\n",
    "    with db.engine.connect() as connection:\n",
    "        result = connection.execute(text(query))\n",
    "    return pd.DataFrame(result)\n",
    "\n",
    "def find_or_add_actor(actor_name):\n",
    "    # Check if the actor already exists in the database\n",
    "    existing_actor = Actor.query.filter_by(actor_name=actor_name).first()\n",
    "\n",
    "    if existing_actor:\n",
    "        return existing_actor\n",
    "    else:\n",
    "        # Create a new actor and add it to the session\n",
    "        new_actor = Actor(name=name)\n",
    "        # session.add(new_actor)\n",
    "        return new_actor\n",
    "\n",
    "# Create Movie\n",
    "def create_movie(movie_name, release_date, country, type, year, actors, moviebox):\n",
    "    movie = Movie(movie_name=movie_name, release_date=release_date, country=country, type=type, year=year)\n",
    "    # movie.actors  = [find_or_add_actor(actor) for actor in actors]\n",
    "    for actor in actors:\n",
    "        actor_target = find_or_add_actor(actor)\n",
    "        actor_target.relation_type = \"Lead\"\n",
    "    db.session.add(movie)\n",
    "    db.session.commit()\n",
    "\n",
    "new_movie = dict(\n",
    "    movie_name='坚如磐石', \n",
    "    release_date='2013/10/1',\n",
    "    country='中国', \n",
    "    type='动作', \n",
    "    year=2013, \n",
    "    actors=['张国立', '雷佳音', '于和伟'], \n",
    "    moviebox=15.5\n",
    ")\n",
    "\n",
    "new_movie = dict(\n",
    "    movie_name='满江红', \n",
    "    release_date='2013/5/15',\n",
    "    country='中国', \n",
    "    type='动作', \n",
    "    year=2013, \n",
    "    actors=['沈腾', '张译', '易烊千玺'], \n",
    "    moviebox=15.5\n",
    ")\n",
    "create_movie(**new_movie)    "
   ]
  },
  {
   "cell_type": "code",
   "execution_count": 9,
   "id": "db452a60-7476-4f33-b24b-5eb1f67e1d94",
   "metadata": {},
   "outputs": [
    {
     "data": {
      "text/plain": [
       "<Actor 沈腾>"
      ]
     },
     "execution_count": 9,
     "metadata": {},
     "output_type": "execute_result"
    }
   ],
   "source": []
  },
  {
   "cell_type": "code",
   "execution_count": null,
   "id": "536cac34-2bbd-4555-b8eb-e7fe8b6a169c",
   "metadata": {},
   "outputs": [],
   "source": []
  },
  {
   "cell_type": "code",
   "execution_count": null,
   "id": "b6cb4bef-00c9-4ac0-832a-37007dc3c957",
   "metadata": {},
   "outputs": [],
   "source": []
  },
  {
   "cell_type": "code",
   "execution_count": null,
   "id": "e4812fc0-5529-4a4d-98a1-fd1c0e8f77a0",
   "metadata": {},
   "outputs": [],
   "source": []
  },
  {
   "cell_type": "code",
   "execution_count": null,
   "id": "9aaaade6-5fc3-4c39-bbc3-651ae72fc434",
   "metadata": {},
   "outputs": [],
   "source": []
  },
  {
   "cell_type": "code",
   "execution_count": 105,
   "id": "864b76b9-7bca-450c-86ee-55dfbf5ae4e0",
   "metadata": {
    "tags": []
   },
   "outputs": [
    {
     "data": {
      "text/html": [
       "<div>\n",
       "<style scoped>\n",
       "    .dataframe tbody tr th:only-of-type {\n",
       "        vertical-align: middle;\n",
       "    }\n",
       "\n",
       "    .dataframe tbody tr th {\n",
       "        vertical-align: top;\n",
       "    }\n",
       "\n",
       "    .dataframe thead th {\n",
       "        text-align: right;\n",
       "    }\n",
       "</style>\n",
       "<table border=\"1\" class=\"dataframe\">\n",
       "  <thead>\n",
       "    <tr style=\"text-align: right;\">\n",
       "      <th></th>\n",
       "      <th>movie_id</th>\n",
       "      <th>movie_name</th>\n",
       "      <th>release_date</th>\n",
       "      <th>country</th>\n",
       "      <th>type</th>\n",
       "      <th>year</th>\n",
       "    </tr>\n",
       "  </thead>\n",
       "  <tbody>\n",
       "    <tr>\n",
       "      <th>0</th>\n",
       "      <td>1001</td>\n",
       "      <td>战狼2</td>\n",
       "      <td>2017/7/27</td>\n",
       "      <td>中国</td>\n",
       "      <td>战争</td>\n",
       "      <td>2017</td>\n",
       "    </tr>\n",
       "    <tr>\n",
       "      <th>1</th>\n",
       "      <td>1002</td>\n",
       "      <td>哪吒之魔童降世</td>\n",
       "      <td>2019/7/26</td>\n",
       "      <td>中国</td>\n",
       "      <td>动画</td>\n",
       "      <td>2019</td>\n",
       "    </tr>\n",
       "    <tr>\n",
       "      <th>2</th>\n",
       "      <td>1003</td>\n",
       "      <td>流浪地球</td>\n",
       "      <td>2019/2/5</td>\n",
       "      <td>中国</td>\n",
       "      <td>科幻</td>\n",
       "      <td>2019</td>\n",
       "    </tr>\n",
       "    <tr>\n",
       "      <th>3</th>\n",
       "      <td>1004</td>\n",
       "      <td>复仇者联盟4</td>\n",
       "      <td>2019/4/24</td>\n",
       "      <td>美国</td>\n",
       "      <td>科幻</td>\n",
       "      <td>2019</td>\n",
       "    </tr>\n",
       "    <tr>\n",
       "      <th>4</th>\n",
       "      <td>1005</td>\n",
       "      <td>红海行动</td>\n",
       "      <td>2018/2/16</td>\n",
       "      <td>中国</td>\n",
       "      <td>战争</td>\n",
       "      <td>2018</td>\n",
       "    </tr>\n",
       "  </tbody>\n",
       "</table>\n",
       "</div>"
      ],
      "text/plain": [
       "  movie_id movie_name release_date country type  year\n",
       "0     1001        战狼2    2017/7/27      中国   战争  2017\n",
       "1     1002    哪吒之魔童降世    2019/7/26      中国   动画  2019\n",
       "2     1003       流浪地球     2019/2/5      中国   科幻  2019\n",
       "3     1004     复仇者联盟4    2019/4/24      美国   科幻  2019\n",
       "4     1005       红海行动    2018/2/16      中国   战争  2018"
      ]
     },
     "execution_count": 105,
     "metadata": {},
     "output_type": "execute_result"
    }
   ],
   "source": [
    "table_dataframe(Movie).head()"
   ]
  },
  {
   "cell_type": "code",
   "execution_count": 106,
   "id": "638fbb76-56a9-4319-a499-d38ede12ca5e",
   "metadata": {},
   "outputs": [
    {
     "data": {
      "text/html": [
       "<div>\n",
       "<style scoped>\n",
       "    .dataframe tbody tr th:only-of-type {\n",
       "        vertical-align: middle;\n",
       "    }\n",
       "\n",
       "    .dataframe tbody tr th {\n",
       "        vertical-align: top;\n",
       "    }\n",
       "\n",
       "    .dataframe thead th {\n",
       "        text-align: right;\n",
       "    }\n",
       "</style>\n",
       "<table border=\"1\" class=\"dataframe\">\n",
       "  <thead>\n",
       "    <tr style=\"text-align: right;\">\n",
       "      <th></th>\n",
       "      <th>movie_id</th>\n",
       "      <th>box</th>\n",
       "    </tr>\n",
       "  </thead>\n",
       "  <tbody>\n",
       "    <tr>\n",
       "      <th>0</th>\n",
       "      <td>1001</td>\n",
       "      <td>56.84</td>\n",
       "    </tr>\n",
       "    <tr>\n",
       "      <th>1</th>\n",
       "      <td>1002</td>\n",
       "      <td>50.15</td>\n",
       "    </tr>\n",
       "    <tr>\n",
       "      <th>2</th>\n",
       "      <td>1003</td>\n",
       "      <td>46.86</td>\n",
       "    </tr>\n",
       "    <tr>\n",
       "      <th>3</th>\n",
       "      <td>1004</td>\n",
       "      <td>42.50</td>\n",
       "    </tr>\n",
       "    <tr>\n",
       "      <th>4</th>\n",
       "      <td>1005</td>\n",
       "      <td>36.50</td>\n",
       "    </tr>\n",
       "  </tbody>\n",
       "</table>\n",
       "</div>"
      ],
      "text/plain": [
       "  movie_id    box\n",
       "0     1001  56.84\n",
       "1     1002  50.15\n",
       "2     1003  46.86\n",
       "3     1004  42.50\n",
       "4     1005  36.50"
      ]
     },
     "execution_count": 106,
     "metadata": {},
     "output_type": "execute_result"
    }
   ],
   "source": [
    "table_dataframe(MovieBox).head()"
   ]
  },
  {
   "cell_type": "code",
   "execution_count": 107,
   "id": "e555d8f2-9c14-4053-90ff-ceaa32f01963",
   "metadata": {},
   "outputs": [
    {
     "data": {
      "text/plain": [
       "56.84"
      ]
     },
     "execution_count": 107,
     "metadata": {},
     "output_type": "execute_result"
    }
   ],
   "source": [
    "db.session.query(Movie).first().moviebox.box"
   ]
  },
  {
   "cell_type": "code",
   "execution_count": 108,
   "id": "8a7b77de-a212-48fd-9505-808b5c0fdc58",
   "metadata": {},
   "outputs": [
    {
     "data": {
      "text/html": [
       "<div>\n",
       "<style scoped>\n",
       "    .dataframe tbody tr th:only-of-type {\n",
       "        vertical-align: middle;\n",
       "    }\n",
       "\n",
       "    .dataframe tbody tr th {\n",
       "        vertical-align: top;\n",
       "    }\n",
       "\n",
       "    .dataframe thead th {\n",
       "        text-align: right;\n",
       "    }\n",
       "</style>\n",
       "<table border=\"1\" class=\"dataframe\">\n",
       "  <thead>\n",
       "    <tr style=\"text-align: right;\">\n",
       "      <th></th>\n",
       "      <th>id</th>\n",
       "      <th>movie_id</th>\n",
       "      <th>actor_id</th>\n",
       "      <th>relation_type</th>\n",
       "    </tr>\n",
       "  </thead>\n",
       "  <tbody>\n",
       "    <tr>\n",
       "      <th>0</th>\n",
       "      <td>1</td>\n",
       "      <td>1001</td>\n",
       "      <td>2001</td>\n",
       "      <td>主演</td>\n",
       "    </tr>\n",
       "    <tr>\n",
       "      <th>1</th>\n",
       "      <td>2</td>\n",
       "      <td>1001</td>\n",
       "      <td>2001</td>\n",
       "      <td>导演</td>\n",
       "    </tr>\n",
       "    <tr>\n",
       "      <th>2</th>\n",
       "      <td>3</td>\n",
       "      <td>1002</td>\n",
       "      <td>2002</td>\n",
       "      <td>导演</td>\n",
       "    </tr>\n",
       "    <tr>\n",
       "      <th>3</th>\n",
       "      <td>4</td>\n",
       "      <td>1003</td>\n",
       "      <td>2001</td>\n",
       "      <td>主演</td>\n",
       "    </tr>\n",
       "    <tr>\n",
       "      <th>4</th>\n",
       "      <td>5</td>\n",
       "      <td>1003</td>\n",
       "      <td>2003</td>\n",
       "      <td>主演</td>\n",
       "    </tr>\n",
       "  </tbody>\n",
       "</table>\n",
       "</div>"
      ],
      "text/plain": [
       "  id movie_id actor_id relation_type\n",
       "0  1     1001     2001            主演\n",
       "1  2     1001     2001            导演\n",
       "2  3     1002     2002            导演\n",
       "3  4     1003     2001            主演\n",
       "4  5     1003     2003            主演"
      ]
     },
     "execution_count": 108,
     "metadata": {},
     "output_type": "execute_result"
    }
   ],
   "source": [
    "select_to_dataframe('SELECT * FROM movie_actor_relation;').head()"
   ]
  },
  {
   "cell_type": "code",
   "execution_count": 121,
   "id": "4620cd37-e224-4c8f-8a88-150d0d7e7c00",
   "metadata": {},
   "outputs": [
    {
     "data": {
      "text/plain": [
       "[<Actor 吴京>, <Actor 屈楚萧>, <Actor 郭帆>]"
      ]
     },
     "execution_count": 121,
     "metadata": {},
     "output_type": "execute_result"
    }
   ],
   "source": [
    "Movie.query.filter_by(movie_id=1003).first().actors"
   ]
  },
  {
   "cell_type": "code",
   "execution_count": null,
   "id": "855b402e-591f-4775-82c0-4e5943c3ef7c",
   "metadata": {},
   "outputs": [],
   "source": []
  }
 ],
 "metadata": {
  "kernelspec": {
   "display_name": "Python 3 (ipykernel)",
   "language": "python",
   "name": "python3"
  },
  "language_info": {
   "codemirror_mode": {
    "name": "ipython",
    "version": 3
   },
   "file_extension": ".py",
   "mimetype": "text/x-python",
   "name": "python",
   "nbconvert_exporter": "python",
   "pygments_lexer": "ipython3",
   "version": "3.10.9"
  }
 },
 "nbformat": 4,
 "nbformat_minor": 5
}
