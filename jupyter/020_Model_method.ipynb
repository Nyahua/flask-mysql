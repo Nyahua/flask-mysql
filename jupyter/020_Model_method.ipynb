{
 "cells": [
  {
   "cell_type": "markdown",
   "id": "4717a7c8-3061-4393-8ca5-b2ff5ebc3e2c",
   "metadata": {},
   "source": [
    "## Model"
   ]
  },
  {
   "cell_type": "code",
   "execution_count": 46,
   "id": "46296980-9efa-4292-a09b-b4cc221e93ba",
   "metadata": {},
   "outputs": [],
   "source": [
    "from pathlib import Path\n",
    "import pandas as pd\n",
    "\n",
    "from flask import Flask \n",
    "from flask_sqlalchemy import SQLAlchemy\n",
    "from sqlalchemy import text\n",
    "from sqlalchemy.sql import func\n",
    "\n",
    "\n",
    "app = Flask(__name__)\n",
    "app.config['SQLALCHEMY_DATABASE_URI'] = 'sqlite:////' + str(Path.cwd() / 'movieDB.db')\n",
    "app.config['SQLALCHEMY_TRACK_MODIFICATIONS'] = False \n",
    "app.app_context().push()\n",
    "\n",
    "db = SQLAlchemy(app)\n",
    "\n",
    "# many to many relation\n",
    "movie_actor_association = db.Table(\n",
    "    'movie_actor_relation',\n",
    "    db.Column('id',  db.Integer, primary_key=True, autoincrement=True),\n",
    "    db.Column('movie_id', db.String(10), db.ForeignKey('movie_info.movie_id')),\n",
    "    db.Column('actor_id', db.Integer, db.ForeignKey('actor_info.actor_id')),\n",
    "    db.Column('relation_type', db.String(20))\n",
    ")\n",
    "\n",
    "class Movie(db.Model):\n",
    "    __tablename__ = 'movie_info'\n",
    "\n",
    "    movie_id = db.Column(db.Integer, primary_key=True, autoincrement=True)\n",
    "    movie_name = db.Column(db.String(20))\n",
    "    release_date = db.Column(db.String(15))\n",
    "    country = db.Column(db.String(20))\n",
    "    type = db.Column(db.String(10))\n",
    "    year = db.Column(db.Integer)\n",
    "    \n",
    "    moviebox = db.relationship('MovieBox', backref='movie_info', uselist=False)\n",
    "    actors = db.relationship('Actor', secondary=movie_actor_association, backref='movies')\n",
    "    \n",
    "    def __repr__(self):\n",
    "        return f'<Movie {self.movie_name}>'\n",
    "    \n",
    "class Actor(db.Model):\n",
    "    __tablename__ = 'actor_info'\n",
    "\n",
    "    actor_id = db.Column(db.Integer, primary_key=True, autoincrement=True)\n",
    "    actor_name = db.Column(db.String(20))\n",
    "    gender = db.Column(db.String(2))\n",
    "    country = db.Column(db.String(20))\n",
    "    \n",
    "    movies = db.relationship('Movie', secondary=movie_actor_association, back_populates='actors')\n",
    "    \n",
    "    \n",
    "    def __repr__(self):\n",
    "        return f'<Actor {self.actor_name}>'    \n",
    "    \n",
    "# one to one relation\n",
    "class MovieBox(db.Model):\n",
    "    __tablename__ = 'movie_box'\n",
    "    movie_id = db.Column(db.String(10), db.ForeignKey('movie_info.movie_id'), unique=True, nullable=False, primary_key=True)\n",
    "    box = db.Column(db.Float)"
   ]
  },
  {
   "cell_type": "markdown",
   "id": "ebc58bb8-39c6-4dea-b397-6debfcb5683f",
   "metadata": {},
   "source": [
    "## Method\n",
    "> basic opertions and CRUD"
   ]
  },
  {
   "cell_type": "code",
   "execution_count": null,
   "id": "d9512260-ec0d-484b-8ddc-8d112710d33e",
   "metadata": {},
   "outputs": [],
   "source": []
  },
  {
   "cell_type": "code",
   "execution_count": null,
   "id": "62dfbf4a-2e34-499f-b636-97afa7d9f3c6",
   "metadata": {},
   "outputs": [],
   "source": []
  },
  {
   "cell_type": "code",
   "execution_count": 45,
   "id": "1c7d8518-4536-4237-88fa-d61c6f1660cb",
   "metadata": {},
   "outputs": [
    {
     "ename": "ArgumentError",
     "evalue": "Error creating backref 'movies' on relationship 'Movie.actors': property of that name exists on mapper 'Mapper[Actor(actor_info)]'",
     "output_type": "error",
     "traceback": [
      "\u001b[0;31m---------------------------------------------------------------------------\u001b[0m",
      "\u001b[0;31mArgumentError\u001b[0m                             Traceback (most recent call last)",
      "Cell \u001b[0;32mIn[45], line 55\u001b[0m\n\u001b[1;32m     36\u001b[0m new_movie \u001b[38;5;241m=\u001b[39m \u001b[38;5;28mdict\u001b[39m(\n\u001b[1;32m     37\u001b[0m     movie_name\u001b[38;5;241m=\u001b[39m\u001b[38;5;124m'\u001b[39m\u001b[38;5;124m坚如磐石\u001b[39m\u001b[38;5;124m'\u001b[39m, \n\u001b[1;32m     38\u001b[0m     release_date\u001b[38;5;241m=\u001b[39m\u001b[38;5;124m'\u001b[39m\u001b[38;5;124m2013/10/1\u001b[39m\u001b[38;5;124m'\u001b[39m,\n\u001b[0;32m   (...)\u001b[0m\n\u001b[1;32m     43\u001b[0m     moviebox\u001b[38;5;241m=\u001b[39m\u001b[38;5;241m15.5\u001b[39m\n\u001b[1;32m     44\u001b[0m )\n\u001b[1;32m     46\u001b[0m new_movie \u001b[38;5;241m=\u001b[39m \u001b[38;5;28mdict\u001b[39m(\n\u001b[1;32m     47\u001b[0m     movie_name\u001b[38;5;241m=\u001b[39m\u001b[38;5;124m'\u001b[39m\u001b[38;5;124m满江红\u001b[39m\u001b[38;5;124m'\u001b[39m, \n\u001b[1;32m     48\u001b[0m     release_date\u001b[38;5;241m=\u001b[39m\u001b[38;5;124m'\u001b[39m\u001b[38;5;124m2013/5/15\u001b[39m\u001b[38;5;124m'\u001b[39m,\n\u001b[0;32m   (...)\u001b[0m\n\u001b[1;32m     53\u001b[0m     moviebox\u001b[38;5;241m=\u001b[39m\u001b[38;5;241m15.5\u001b[39m\n\u001b[1;32m     54\u001b[0m )\n\u001b[0;32m---> 55\u001b[0m \u001b[43mcreate_movie\u001b[49m\u001b[43m(\u001b[49m\u001b[38;5;241;43m*\u001b[39;49m\u001b[38;5;241;43m*\u001b[39;49m\u001b[43mnew_movie\u001b[49m\u001b[43m)\u001b[49m\n",
      "Cell \u001b[0;32mIn[45], line 26\u001b[0m, in \u001b[0;36mcreate_movie\u001b[0;34m(movie_name, release_date, country, type, year, actors, moviebox)\u001b[0m\n\u001b[1;32m     25\u001b[0m \u001b[38;5;28;01mdef\u001b[39;00m \u001b[38;5;21mcreate_movie\u001b[39m(movie_name, release_date, country, \u001b[38;5;28mtype\u001b[39m, year, actors, moviebox):\n\u001b[0;32m---> 26\u001b[0m     maxid \u001b[38;5;241m=\u001b[39m \u001b[43mdb\u001b[49m\u001b[38;5;241;43m.\u001b[39;49m\u001b[43msession\u001b[49m\u001b[38;5;241;43m.\u001b[39;49m\u001b[43mquery\u001b[49m\u001b[43m(\u001b[49m\u001b[43mfunc\u001b[49m\u001b[38;5;241;43m.\u001b[39;49m\u001b[43mmax\u001b[49m\u001b[43m(\u001b[49m\u001b[43mMovie\u001b[49m\u001b[38;5;241;43m.\u001b[39;49m\u001b[43mmovie_id\u001b[49m\u001b[43m)\u001b[49m\u001b[43m)\u001b[49m\u001b[38;5;241;43m.\u001b[39;49m\u001b[43mscalar\u001b[49m\u001b[43m(\u001b[49m\u001b[43m)\u001b[49m\n\u001b[1;32m     27\u001b[0m     movie_id \u001b[38;5;241m=\u001b[39m \u001b[38;5;28mstr\u001b[39m(\u001b[38;5;28mint\u001b[39m(maxid) \u001b[38;5;241m+\u001b[39m \u001b[38;5;241m1\u001b[39m)\n\u001b[1;32m     28\u001b[0m     movie \u001b[38;5;241m=\u001b[39m Movie(movie_id\u001b[38;5;241m=\u001b[39mmovie_id, movie_name\u001b[38;5;241m=\u001b[39mmovie_name, release_date\u001b[38;5;241m=\u001b[39mrelease_date, country\u001b[38;5;241m=\u001b[39mcountry, \u001b[38;5;28mtype\u001b[39m\u001b[38;5;241m=\u001b[39m\u001b[38;5;28mtype\u001b[39m, year\u001b[38;5;241m=\u001b[39myear)\n",
      "File \u001b[0;32m~/.local/lib/python3.10/site-packages/sqlalchemy/orm/query.py:2825\u001b[0m, in \u001b[0;36mQuery.scalar\u001b[0;34m(self)\u001b[0m\n\u001b[1;32m   2823\u001b[0m \u001b[38;5;66;03m# TODO: not sure why we can't use result.scalar() here\u001b[39;00m\n\u001b[1;32m   2824\u001b[0m \u001b[38;5;28;01mtry\u001b[39;00m:\n\u001b[0;32m-> 2825\u001b[0m     ret \u001b[38;5;241m=\u001b[39m \u001b[38;5;28;43mself\u001b[39;49m\u001b[38;5;241;43m.\u001b[39;49m\u001b[43mone\u001b[49m\u001b[43m(\u001b[49m\u001b[43m)\u001b[49m\n\u001b[1;32m   2826\u001b[0m     \u001b[38;5;28;01mif\u001b[39;00m \u001b[38;5;129;01mnot\u001b[39;00m \u001b[38;5;28misinstance\u001b[39m(ret, collections_abc\u001b[38;5;241m.\u001b[39mSequence):\n\u001b[1;32m   2827\u001b[0m         \u001b[38;5;28;01mreturn\u001b[39;00m ret\n",
      "File \u001b[0;32m~/.local/lib/python3.10/site-packages/sqlalchemy/orm/query.py:2798\u001b[0m, in \u001b[0;36mQuery.one\u001b[0;34m(self)\u001b[0m\n\u001b[1;32m   2776\u001b[0m \u001b[38;5;28;01mdef\u001b[39;00m \u001b[38;5;21mone\u001b[39m(\u001b[38;5;28mself\u001b[39m) \u001b[38;5;241m-\u001b[39m\u001b[38;5;241m>\u001b[39m _T:\n\u001b[1;32m   2777\u001b[0m \u001b[38;5;250m    \u001b[39m\u001b[38;5;124;03m\"\"\"Return exactly one result or raise an exception.\u001b[39;00m\n\u001b[1;32m   2778\u001b[0m \n\u001b[1;32m   2779\u001b[0m \u001b[38;5;124;03m    Raises ``sqlalchemy.orm.exc.NoResultFound`` if the query selects\u001b[39;00m\n\u001b[0;32m   (...)\u001b[0m\n\u001b[1;32m   2796\u001b[0m \n\u001b[1;32m   2797\u001b[0m \u001b[38;5;124;03m    \"\"\"\u001b[39;00m\n\u001b[0;32m-> 2798\u001b[0m     \u001b[38;5;28;01mreturn\u001b[39;00m \u001b[38;5;28;43mself\u001b[39;49m\u001b[38;5;241;43m.\u001b[39;49m\u001b[43m_iter\u001b[49m\u001b[43m(\u001b[49m\u001b[43m)\u001b[49m\u001b[38;5;241m.\u001b[39mone()\n",
      "File \u001b[0;32m~/.local/lib/python3.10/site-packages/sqlalchemy/orm/query.py:2847\u001b[0m, in \u001b[0;36mQuery._iter\u001b[0;34m(self)\u001b[0m\n\u001b[1;32m   2844\u001b[0m params \u001b[38;5;241m=\u001b[39m \u001b[38;5;28mself\u001b[39m\u001b[38;5;241m.\u001b[39m_params\n\u001b[1;32m   2846\u001b[0m statement \u001b[38;5;241m=\u001b[39m \u001b[38;5;28mself\u001b[39m\u001b[38;5;241m.\u001b[39m_statement_20()\n\u001b[0;32m-> 2847\u001b[0m result: Union[ScalarResult[_T], Result[_T]] \u001b[38;5;241m=\u001b[39m \u001b[38;5;28;43mself\u001b[39;49m\u001b[38;5;241;43m.\u001b[39;49m\u001b[43msession\u001b[49m\u001b[38;5;241;43m.\u001b[39;49m\u001b[43mexecute\u001b[49m\u001b[43m(\u001b[49m\n\u001b[1;32m   2848\u001b[0m \u001b[43m    \u001b[49m\u001b[43mstatement\u001b[49m\u001b[43m,\u001b[49m\n\u001b[1;32m   2849\u001b[0m \u001b[43m    \u001b[49m\u001b[43mparams\u001b[49m\u001b[43m,\u001b[49m\n\u001b[1;32m   2850\u001b[0m \u001b[43m    \u001b[49m\u001b[43mexecution_options\u001b[49m\u001b[38;5;241;43m=\u001b[39;49m\u001b[43m{\u001b[49m\u001b[38;5;124;43m\"\u001b[39;49m\u001b[38;5;124;43m_sa_orm_load_options\u001b[39;49m\u001b[38;5;124;43m\"\u001b[39;49m\u001b[43m:\u001b[49m\u001b[43m \u001b[49m\u001b[38;5;28;43mself\u001b[39;49m\u001b[38;5;241;43m.\u001b[39;49m\u001b[43mload_options\u001b[49m\u001b[43m}\u001b[49m\u001b[43m,\u001b[49m\n\u001b[1;32m   2851\u001b[0m \u001b[43m\u001b[49m\u001b[43m)\u001b[49m\n\u001b[1;32m   2853\u001b[0m \u001b[38;5;66;03m# legacy: automatically set scalars, unique\u001b[39;00m\n\u001b[1;32m   2854\u001b[0m \u001b[38;5;28;01mif\u001b[39;00m result\u001b[38;5;241m.\u001b[39m_attributes\u001b[38;5;241m.\u001b[39mget(\u001b[38;5;124m\"\u001b[39m\u001b[38;5;124mis_single_entity\u001b[39m\u001b[38;5;124m\"\u001b[39m, \u001b[38;5;28;01mFalse\u001b[39;00m):\n",
      "File \u001b[0;32m~/.local/lib/python3.10/site-packages/sqlalchemy/orm/session.py:2308\u001b[0m, in \u001b[0;36mSession.execute\u001b[0;34m(self, statement, params, execution_options, bind_arguments, _parent_execute_state, _add_event)\u001b[0m\n\u001b[1;32m   2247\u001b[0m \u001b[38;5;28;01mdef\u001b[39;00m \u001b[38;5;21mexecute\u001b[39m(\n\u001b[1;32m   2248\u001b[0m     \u001b[38;5;28mself\u001b[39m,\n\u001b[1;32m   2249\u001b[0m     statement: Executable,\n\u001b[0;32m   (...)\u001b[0m\n\u001b[1;32m   2255\u001b[0m     _add_event: Optional[Any] \u001b[38;5;241m=\u001b[39m \u001b[38;5;28;01mNone\u001b[39;00m,\n\u001b[1;32m   2256\u001b[0m ) \u001b[38;5;241m-\u001b[39m\u001b[38;5;241m>\u001b[39m Result[Any]:\n\u001b[1;32m   2257\u001b[0m \u001b[38;5;250m    \u001b[39m\u001b[38;5;124mr\u001b[39m\u001b[38;5;124;03m\"\"\"Execute a SQL expression construct.\u001b[39;00m\n\u001b[1;32m   2258\u001b[0m \n\u001b[1;32m   2259\u001b[0m \u001b[38;5;124;03m    Returns a :class:`_engine.Result` object representing\u001b[39;00m\n\u001b[0;32m   (...)\u001b[0m\n\u001b[1;32m   2306\u001b[0m \n\u001b[1;32m   2307\u001b[0m \u001b[38;5;124;03m    \"\"\"\u001b[39;00m\n\u001b[0;32m-> 2308\u001b[0m     \u001b[38;5;28;01mreturn\u001b[39;00m \u001b[38;5;28;43mself\u001b[39;49m\u001b[38;5;241;43m.\u001b[39;49m\u001b[43m_execute_internal\u001b[49m\u001b[43m(\u001b[49m\n\u001b[1;32m   2309\u001b[0m \u001b[43m        \u001b[49m\u001b[43mstatement\u001b[49m\u001b[43m,\u001b[49m\n\u001b[1;32m   2310\u001b[0m \u001b[43m        \u001b[49m\u001b[43mparams\u001b[49m\u001b[43m,\u001b[49m\n\u001b[1;32m   2311\u001b[0m \u001b[43m        \u001b[49m\u001b[43mexecution_options\u001b[49m\u001b[38;5;241;43m=\u001b[39;49m\u001b[43mexecution_options\u001b[49m\u001b[43m,\u001b[49m\n\u001b[1;32m   2312\u001b[0m \u001b[43m        \u001b[49m\u001b[43mbind_arguments\u001b[49m\u001b[38;5;241;43m=\u001b[39;49m\u001b[43mbind_arguments\u001b[49m\u001b[43m,\u001b[49m\n\u001b[1;32m   2313\u001b[0m \u001b[43m        \u001b[49m\u001b[43m_parent_execute_state\u001b[49m\u001b[38;5;241;43m=\u001b[39;49m\u001b[43m_parent_execute_state\u001b[49m\u001b[43m,\u001b[49m\n\u001b[1;32m   2314\u001b[0m \u001b[43m        \u001b[49m\u001b[43m_add_event\u001b[49m\u001b[38;5;241;43m=\u001b[39;49m\u001b[43m_add_event\u001b[49m\u001b[43m,\u001b[49m\n\u001b[1;32m   2315\u001b[0m \u001b[43m    \u001b[49m\u001b[43m)\u001b[49m\n",
      "File \u001b[0;32m~/.local/lib/python3.10/site-packages/sqlalchemy/orm/session.py:2190\u001b[0m, in \u001b[0;36mSession._execute_internal\u001b[0;34m(self, statement, params, execution_options, bind_arguments, _parent_execute_state, _add_event, _scalar_result)\u001b[0m\n\u001b[1;32m   2185\u001b[0m     \u001b[38;5;28;01mreturn\u001b[39;00m conn\u001b[38;5;241m.\u001b[39mscalar(\n\u001b[1;32m   2186\u001b[0m         statement, params \u001b[38;5;129;01mor\u001b[39;00m {}, execution_options\u001b[38;5;241m=\u001b[39mexecution_options\n\u001b[1;32m   2187\u001b[0m     )\n\u001b[1;32m   2189\u001b[0m \u001b[38;5;28;01mif\u001b[39;00m compile_state_cls:\n\u001b[0;32m-> 2190\u001b[0m     result: Result[Any] \u001b[38;5;241m=\u001b[39m \u001b[43mcompile_state_cls\u001b[49m\u001b[38;5;241;43m.\u001b[39;49m\u001b[43morm_execute_statement\u001b[49m\u001b[43m(\u001b[49m\n\u001b[1;32m   2191\u001b[0m \u001b[43m        \u001b[49m\u001b[38;5;28;43mself\u001b[39;49m\u001b[43m,\u001b[49m\n\u001b[1;32m   2192\u001b[0m \u001b[43m        \u001b[49m\u001b[43mstatement\u001b[49m\u001b[43m,\u001b[49m\n\u001b[1;32m   2193\u001b[0m \u001b[43m        \u001b[49m\u001b[43mparams\u001b[49m\u001b[43m \u001b[49m\u001b[38;5;129;43;01mor\u001b[39;49;00m\u001b[43m \u001b[49m\u001b[43m{\u001b[49m\u001b[43m}\u001b[49m\u001b[43m,\u001b[49m\n\u001b[1;32m   2194\u001b[0m \u001b[43m        \u001b[49m\u001b[43mexecution_options\u001b[49m\u001b[43m,\u001b[49m\n\u001b[1;32m   2195\u001b[0m \u001b[43m        \u001b[49m\u001b[43mbind_arguments\u001b[49m\u001b[43m,\u001b[49m\n\u001b[1;32m   2196\u001b[0m \u001b[43m        \u001b[49m\u001b[43mconn\u001b[49m\u001b[43m,\u001b[49m\n\u001b[1;32m   2197\u001b[0m \u001b[43m    \u001b[49m\u001b[43m)\u001b[49m\n\u001b[1;32m   2198\u001b[0m \u001b[38;5;28;01melse\u001b[39;00m:\n\u001b[1;32m   2199\u001b[0m     result \u001b[38;5;241m=\u001b[39m conn\u001b[38;5;241m.\u001b[39mexecute(\n\u001b[1;32m   2200\u001b[0m         statement, params \u001b[38;5;129;01mor\u001b[39;00m {}, execution_options\u001b[38;5;241m=\u001b[39mexecution_options\n\u001b[1;32m   2201\u001b[0m     )\n",
      "File \u001b[0;32m~/.local/lib/python3.10/site-packages/sqlalchemy/orm/context.py:293\u001b[0m, in \u001b[0;36mAbstractORMCompileState.orm_execute_statement\u001b[0;34m(cls, session, statement, params, execution_options, bind_arguments, conn)\u001b[0m\n\u001b[1;32m    283\u001b[0m \u001b[38;5;129m@classmethod\u001b[39m\n\u001b[1;32m    284\u001b[0m \u001b[38;5;28;01mdef\u001b[39;00m \u001b[38;5;21morm_execute_statement\u001b[39m(\n\u001b[1;32m    285\u001b[0m     \u001b[38;5;28mcls\u001b[39m,\n\u001b[0;32m   (...)\u001b[0m\n\u001b[1;32m    291\u001b[0m     conn,\n\u001b[1;32m    292\u001b[0m ) \u001b[38;5;241m-\u001b[39m\u001b[38;5;241m>\u001b[39m Result:\n\u001b[0;32m--> 293\u001b[0m     result \u001b[38;5;241m=\u001b[39m \u001b[43mconn\u001b[49m\u001b[38;5;241;43m.\u001b[39;49m\u001b[43mexecute\u001b[49m\u001b[43m(\u001b[49m\n\u001b[1;32m    294\u001b[0m \u001b[43m        \u001b[49m\u001b[43mstatement\u001b[49m\u001b[43m,\u001b[49m\u001b[43m \u001b[49m\u001b[43mparams\u001b[49m\u001b[43m \u001b[49m\u001b[38;5;129;43;01mor\u001b[39;49;00m\u001b[43m \u001b[49m\u001b[43m{\u001b[49m\u001b[43m}\u001b[49m\u001b[43m,\u001b[49m\u001b[43m \u001b[49m\u001b[43mexecution_options\u001b[49m\u001b[38;5;241;43m=\u001b[39;49m\u001b[43mexecution_options\u001b[49m\n\u001b[1;32m    295\u001b[0m \u001b[43m    \u001b[49m\u001b[43m)\u001b[49m\n\u001b[1;32m    296\u001b[0m     \u001b[38;5;28;01mreturn\u001b[39;00m \u001b[38;5;28mcls\u001b[39m\u001b[38;5;241m.\u001b[39morm_setup_cursor_result(\n\u001b[1;32m    297\u001b[0m         session,\n\u001b[1;32m    298\u001b[0m         statement,\n\u001b[0;32m   (...)\u001b[0m\n\u001b[1;32m    302\u001b[0m         result,\n\u001b[1;32m    303\u001b[0m     )\n",
      "File \u001b[0;32m~/.local/lib/python3.10/site-packages/sqlalchemy/engine/base.py:1416\u001b[0m, in \u001b[0;36mConnection.execute\u001b[0;34m(self, statement, parameters, execution_options)\u001b[0m\n\u001b[1;32m   1414\u001b[0m     \u001b[38;5;28;01mraise\u001b[39;00m exc\u001b[38;5;241m.\u001b[39mObjectNotExecutableError(statement) \u001b[38;5;28;01mfrom\u001b[39;00m \u001b[38;5;21;01merr\u001b[39;00m\n\u001b[1;32m   1415\u001b[0m \u001b[38;5;28;01melse\u001b[39;00m:\n\u001b[0;32m-> 1416\u001b[0m     \u001b[38;5;28;01mreturn\u001b[39;00m \u001b[43mmeth\u001b[49m\u001b[43m(\u001b[49m\n\u001b[1;32m   1417\u001b[0m \u001b[43m        \u001b[49m\u001b[38;5;28;43mself\u001b[39;49m\u001b[43m,\u001b[49m\n\u001b[1;32m   1418\u001b[0m \u001b[43m        \u001b[49m\u001b[43mdistilled_parameters\u001b[49m\u001b[43m,\u001b[49m\n\u001b[1;32m   1419\u001b[0m \u001b[43m        \u001b[49m\u001b[43mexecution_options\u001b[49m\u001b[43m \u001b[49m\u001b[38;5;129;43;01mor\u001b[39;49;00m\u001b[43m \u001b[49m\u001b[43mNO_OPTIONS\u001b[49m\u001b[43m,\u001b[49m\n\u001b[1;32m   1420\u001b[0m \u001b[43m    \u001b[49m\u001b[43m)\u001b[49m\n",
      "File \u001b[0;32m~/.local/lib/python3.10/site-packages/sqlalchemy/sql/elements.py:516\u001b[0m, in \u001b[0;36mClauseElement._execute_on_connection\u001b[0;34m(self, connection, distilled_params, execution_options)\u001b[0m\n\u001b[1;32m    514\u001b[0m     \u001b[38;5;28;01mif\u001b[39;00m TYPE_CHECKING:\n\u001b[1;32m    515\u001b[0m         \u001b[38;5;28;01massert\u001b[39;00m \u001b[38;5;28misinstance\u001b[39m(\u001b[38;5;28mself\u001b[39m, Executable)\n\u001b[0;32m--> 516\u001b[0m     \u001b[38;5;28;01mreturn\u001b[39;00m \u001b[43mconnection\u001b[49m\u001b[38;5;241;43m.\u001b[39;49m\u001b[43m_execute_clauseelement\u001b[49m\u001b[43m(\u001b[49m\n\u001b[1;32m    517\u001b[0m \u001b[43m        \u001b[49m\u001b[38;5;28;43mself\u001b[39;49m\u001b[43m,\u001b[49m\u001b[43m \u001b[49m\u001b[43mdistilled_params\u001b[49m\u001b[43m,\u001b[49m\u001b[43m \u001b[49m\u001b[43mexecution_options\u001b[49m\n\u001b[1;32m    518\u001b[0m \u001b[43m    \u001b[49m\u001b[43m)\u001b[49m\n\u001b[1;32m    519\u001b[0m \u001b[38;5;28;01melse\u001b[39;00m:\n\u001b[1;32m    520\u001b[0m     \u001b[38;5;28;01mraise\u001b[39;00m exc\u001b[38;5;241m.\u001b[39mObjectNotExecutableError(\u001b[38;5;28mself\u001b[39m)\n",
      "File \u001b[0;32m~/.local/lib/python3.10/site-packages/sqlalchemy/engine/base.py:1631\u001b[0m, in \u001b[0;36mConnection._execute_clauseelement\u001b[0;34m(self, elem, distilled_parameters, execution_options)\u001b[0m\n\u001b[1;32m   1623\u001b[0m schema_translate_map \u001b[38;5;241m=\u001b[39m execution_options\u001b[38;5;241m.\u001b[39mget(\n\u001b[1;32m   1624\u001b[0m     \u001b[38;5;124m\"\u001b[39m\u001b[38;5;124mschema_translate_map\u001b[39m\u001b[38;5;124m\"\u001b[39m, \u001b[38;5;28;01mNone\u001b[39;00m\n\u001b[1;32m   1625\u001b[0m )\n\u001b[1;32m   1627\u001b[0m compiled_cache: Optional[CompiledCacheType] \u001b[38;5;241m=\u001b[39m execution_options\u001b[38;5;241m.\u001b[39mget(\n\u001b[1;32m   1628\u001b[0m     \u001b[38;5;124m\"\u001b[39m\u001b[38;5;124mcompiled_cache\u001b[39m\u001b[38;5;124m\"\u001b[39m, \u001b[38;5;28mself\u001b[39m\u001b[38;5;241m.\u001b[39mengine\u001b[38;5;241m.\u001b[39m_compiled_cache\n\u001b[1;32m   1629\u001b[0m )\n\u001b[0;32m-> 1631\u001b[0m compiled_sql, extracted_params, cache_hit \u001b[38;5;241m=\u001b[39m \u001b[43melem\u001b[49m\u001b[38;5;241;43m.\u001b[39;49m\u001b[43m_compile_w_cache\u001b[49m\u001b[43m(\u001b[49m\n\u001b[1;32m   1632\u001b[0m \u001b[43m    \u001b[49m\u001b[43mdialect\u001b[49m\u001b[38;5;241;43m=\u001b[39;49m\u001b[43mdialect\u001b[49m\u001b[43m,\u001b[49m\n\u001b[1;32m   1633\u001b[0m \u001b[43m    \u001b[49m\u001b[43mcompiled_cache\u001b[49m\u001b[38;5;241;43m=\u001b[39;49m\u001b[43mcompiled_cache\u001b[49m\u001b[43m,\u001b[49m\n\u001b[1;32m   1634\u001b[0m \u001b[43m    \u001b[49m\u001b[43mcolumn_keys\u001b[49m\u001b[38;5;241;43m=\u001b[39;49m\u001b[43mkeys\u001b[49m\u001b[43m,\u001b[49m\n\u001b[1;32m   1635\u001b[0m \u001b[43m    \u001b[49m\u001b[43mfor_executemany\u001b[49m\u001b[38;5;241;43m=\u001b[39;49m\u001b[43mfor_executemany\u001b[49m\u001b[43m,\u001b[49m\n\u001b[1;32m   1636\u001b[0m \u001b[43m    \u001b[49m\u001b[43mschema_translate_map\u001b[49m\u001b[38;5;241;43m=\u001b[39;49m\u001b[43mschema_translate_map\u001b[49m\u001b[43m,\u001b[49m\n\u001b[1;32m   1637\u001b[0m \u001b[43m    \u001b[49m\u001b[43mlinting\u001b[49m\u001b[38;5;241;43m=\u001b[39;49m\u001b[38;5;28;43mself\u001b[39;49m\u001b[38;5;241;43m.\u001b[39;49m\u001b[43mdialect\u001b[49m\u001b[38;5;241;43m.\u001b[39;49m\u001b[43mcompiler_linting\u001b[49m\u001b[43m \u001b[49m\u001b[38;5;241;43m|\u001b[39;49m\u001b[43m \u001b[49m\u001b[43mcompiler\u001b[49m\u001b[38;5;241;43m.\u001b[39;49m\u001b[43mWARN_LINTING\u001b[49m\u001b[43m,\u001b[49m\n\u001b[1;32m   1638\u001b[0m \u001b[43m\u001b[49m\u001b[43m)\u001b[49m\n\u001b[1;32m   1639\u001b[0m ret \u001b[38;5;241m=\u001b[39m \u001b[38;5;28mself\u001b[39m\u001b[38;5;241m.\u001b[39m_execute_context(\n\u001b[1;32m   1640\u001b[0m     dialect,\n\u001b[1;32m   1641\u001b[0m     dialect\u001b[38;5;241m.\u001b[39mexecution_ctx_cls\u001b[38;5;241m.\u001b[39m_init_compiled,\n\u001b[0;32m   (...)\u001b[0m\n\u001b[1;32m   1649\u001b[0m     cache_hit\u001b[38;5;241m=\u001b[39mcache_hit,\n\u001b[1;32m   1650\u001b[0m )\n\u001b[1;32m   1651\u001b[0m \u001b[38;5;28;01mif\u001b[39;00m has_events:\n",
      "File \u001b[0;32m~/.local/lib/python3.10/site-packages/sqlalchemy/sql/elements.py:704\u001b[0m, in \u001b[0;36mClauseElement._compile_w_cache\u001b[0;34m(self, dialect, compiled_cache, column_keys, for_executemany, schema_translate_map, **kw)\u001b[0m\n\u001b[1;32m    702\u001b[0m \u001b[38;5;28;01mif\u001b[39;00m compiled_sql \u001b[38;5;129;01mis\u001b[39;00m \u001b[38;5;28;01mNone\u001b[39;00m:\n\u001b[1;32m    703\u001b[0m     cache_hit \u001b[38;5;241m=\u001b[39m dialect\u001b[38;5;241m.\u001b[39mCACHE_MISS\n\u001b[0;32m--> 704\u001b[0m     compiled_sql \u001b[38;5;241m=\u001b[39m \u001b[38;5;28;43mself\u001b[39;49m\u001b[38;5;241;43m.\u001b[39;49m\u001b[43m_compiler\u001b[49m\u001b[43m(\u001b[49m\n\u001b[1;32m    705\u001b[0m \u001b[43m        \u001b[49m\u001b[43mdialect\u001b[49m\u001b[43m,\u001b[49m\n\u001b[1;32m    706\u001b[0m \u001b[43m        \u001b[49m\u001b[43mcache_key\u001b[49m\u001b[38;5;241;43m=\u001b[39;49m\u001b[43melem_cache_key\u001b[49m\u001b[43m,\u001b[49m\n\u001b[1;32m    707\u001b[0m \u001b[43m        \u001b[49m\u001b[43mcolumn_keys\u001b[49m\u001b[38;5;241;43m=\u001b[39;49m\u001b[43mcolumn_keys\u001b[49m\u001b[43m,\u001b[49m\n\u001b[1;32m    708\u001b[0m \u001b[43m        \u001b[49m\u001b[43mfor_executemany\u001b[49m\u001b[38;5;241;43m=\u001b[39;49m\u001b[43mfor_executemany\u001b[49m\u001b[43m,\u001b[49m\n\u001b[1;32m    709\u001b[0m \u001b[43m        \u001b[49m\u001b[43mschema_translate_map\u001b[49m\u001b[38;5;241;43m=\u001b[39;49m\u001b[43mschema_translate_map\u001b[49m\u001b[43m,\u001b[49m\n\u001b[1;32m    710\u001b[0m \u001b[43m        \u001b[49m\u001b[38;5;241;43m*\u001b[39;49m\u001b[38;5;241;43m*\u001b[39;49m\u001b[43mkw\u001b[49m\u001b[43m,\u001b[49m\n\u001b[1;32m    711\u001b[0m \u001b[43m    \u001b[49m\u001b[43m)\u001b[49m\n\u001b[1;32m    712\u001b[0m     compiled_cache[key] \u001b[38;5;241m=\u001b[39m compiled_sql\n\u001b[1;32m    713\u001b[0m \u001b[38;5;28;01melse\u001b[39;00m:\n",
      "File \u001b[0;32m~/.local/lib/python3.10/site-packages/sqlalchemy/sql/elements.py:316\u001b[0m, in \u001b[0;36mCompilerElement._compiler\u001b[0;34m(self, dialect, **kw)\u001b[0m\n\u001b[1;32m    314\u001b[0m \u001b[38;5;28;01mif\u001b[39;00m TYPE_CHECKING:\n\u001b[1;32m    315\u001b[0m     \u001b[38;5;28;01massert\u001b[39;00m \u001b[38;5;28misinstance\u001b[39m(\u001b[38;5;28mself\u001b[39m, ClauseElement)\n\u001b[0;32m--> 316\u001b[0m \u001b[38;5;28;01mreturn\u001b[39;00m \u001b[43mdialect\u001b[49m\u001b[38;5;241;43m.\u001b[39;49m\u001b[43mstatement_compiler\u001b[49m\u001b[43m(\u001b[49m\u001b[43mdialect\u001b[49m\u001b[43m,\u001b[49m\u001b[43m \u001b[49m\u001b[38;5;28;43mself\u001b[39;49m\u001b[43m,\u001b[49m\u001b[43m \u001b[49m\u001b[38;5;241;43m*\u001b[39;49m\u001b[38;5;241;43m*\u001b[39;49m\u001b[43mkw\u001b[49m\u001b[43m)\u001b[49m\n",
      "File \u001b[0;32m~/.local/lib/python3.10/site-packages/sqlalchemy/sql/compiler.py:1426\u001b[0m, in \u001b[0;36mSQLCompiler.__init__\u001b[0;34m(self, dialect, statement, cache_key, column_keys, for_executemany, linting, **kwargs)\u001b[0m\n\u001b[1;32m   1423\u001b[0m \u001b[38;5;28mself\u001b[39m\u001b[38;5;241m.\u001b[39mtruncated_names: Dict[Tuple[\u001b[38;5;28mstr\u001b[39m, \u001b[38;5;28mstr\u001b[39m], \u001b[38;5;28mstr\u001b[39m] \u001b[38;5;241m=\u001b[39m {}\n\u001b[1;32m   1424\u001b[0m \u001b[38;5;28mself\u001b[39m\u001b[38;5;241m.\u001b[39m_truncated_counters: Dict[\u001b[38;5;28mstr\u001b[39m, \u001b[38;5;28mint\u001b[39m] \u001b[38;5;241m=\u001b[39m {}\n\u001b[0;32m-> 1426\u001b[0m \u001b[43mCompiled\u001b[49m\u001b[38;5;241;43m.\u001b[39;49m\u001b[38;5;21;43m__init__\u001b[39;49m\u001b[43m(\u001b[49m\u001b[38;5;28;43mself\u001b[39;49m\u001b[43m,\u001b[49m\u001b[43m \u001b[49m\u001b[43mdialect\u001b[49m\u001b[43m,\u001b[49m\u001b[43m \u001b[49m\u001b[43mstatement\u001b[49m\u001b[43m,\u001b[49m\u001b[43m \u001b[49m\u001b[38;5;241;43m*\u001b[39;49m\u001b[38;5;241;43m*\u001b[39;49m\u001b[43mkwargs\u001b[49m\u001b[43m)\u001b[49m\n\u001b[1;32m   1428\u001b[0m \u001b[38;5;28;01mif\u001b[39;00m \u001b[38;5;28mself\u001b[39m\u001b[38;5;241m.\u001b[39misinsert \u001b[38;5;129;01mor\u001b[39;00m \u001b[38;5;28mself\u001b[39m\u001b[38;5;241m.\u001b[39misupdate \u001b[38;5;129;01mor\u001b[39;00m \u001b[38;5;28mself\u001b[39m\u001b[38;5;241m.\u001b[39misdelete:\n\u001b[1;32m   1429\u001b[0m     \u001b[38;5;28;01mif\u001b[39;00m TYPE_CHECKING:\n",
      "File \u001b[0;32m~/.local/lib/python3.10/site-packages/sqlalchemy/sql/compiler.py:867\u001b[0m, in \u001b[0;36mCompiled.__init__\u001b[0;34m(self, dialect, statement, schema_translate_map, render_schema_translate, compile_kwargs)\u001b[0m\n\u001b[1;32m    865\u001b[0m         \u001b[38;5;28;01massert\u001b[39;00m \u001b[38;5;28misinstance\u001b[39m(statement, Executable)\n\u001b[1;32m    866\u001b[0m     \u001b[38;5;28mself\u001b[39m\u001b[38;5;241m.\u001b[39mexecution_options \u001b[38;5;241m=\u001b[39m statement\u001b[38;5;241m.\u001b[39m_execution_options\n\u001b[0;32m--> 867\u001b[0m \u001b[38;5;28mself\u001b[39m\u001b[38;5;241m.\u001b[39mstring \u001b[38;5;241m=\u001b[39m \u001b[38;5;28;43mself\u001b[39;49m\u001b[38;5;241;43m.\u001b[39;49m\u001b[43mprocess\u001b[49m\u001b[43m(\u001b[49m\u001b[38;5;28;43mself\u001b[39;49m\u001b[38;5;241;43m.\u001b[39;49m\u001b[43mstatement\u001b[49m\u001b[43m,\u001b[49m\u001b[43m \u001b[49m\u001b[38;5;241;43m*\u001b[39;49m\u001b[38;5;241;43m*\u001b[39;49m\u001b[43mcompile_kwargs\u001b[49m\u001b[43m)\u001b[49m\n\u001b[1;32m    869\u001b[0m \u001b[38;5;28;01mif\u001b[39;00m render_schema_translate:\n\u001b[1;32m    870\u001b[0m     \u001b[38;5;28mself\u001b[39m\u001b[38;5;241m.\u001b[39mstring \u001b[38;5;241m=\u001b[39m \u001b[38;5;28mself\u001b[39m\u001b[38;5;241m.\u001b[39mpreparer\u001b[38;5;241m.\u001b[39m_render_schema_translates(\n\u001b[1;32m    871\u001b[0m         \u001b[38;5;28mself\u001b[39m\u001b[38;5;241m.\u001b[39mstring, schema_translate_map\n\u001b[1;32m    872\u001b[0m     )\n",
      "File \u001b[0;32m~/.local/lib/python3.10/site-packages/sqlalchemy/sql/compiler.py:912\u001b[0m, in \u001b[0;36mCompiled.process\u001b[0;34m(self, obj, **kwargs)\u001b[0m\n\u001b[1;32m    911\u001b[0m \u001b[38;5;28;01mdef\u001b[39;00m \u001b[38;5;21mprocess\u001b[39m(\u001b[38;5;28mself\u001b[39m, obj: Visitable, \u001b[38;5;241m*\u001b[39m\u001b[38;5;241m*\u001b[39mkwargs: Any) \u001b[38;5;241m-\u001b[39m\u001b[38;5;241m>\u001b[39m \u001b[38;5;28mstr\u001b[39m:\n\u001b[0;32m--> 912\u001b[0m     \u001b[38;5;28;01mreturn\u001b[39;00m \u001b[43mobj\u001b[49m\u001b[38;5;241;43m.\u001b[39;49m\u001b[43m_compiler_dispatch\u001b[49m\u001b[43m(\u001b[49m\u001b[38;5;28;43mself\u001b[39;49m\u001b[43m,\u001b[49m\u001b[43m \u001b[49m\u001b[38;5;241;43m*\u001b[39;49m\u001b[38;5;241;43m*\u001b[39;49m\u001b[43mkwargs\u001b[49m\u001b[43m)\u001b[49m\n",
      "File \u001b[0;32m~/.local/lib/python3.10/site-packages/sqlalchemy/sql/visitors.py:143\u001b[0m, in \u001b[0;36mVisitable._generate_compiler_dispatch.<locals>._compiler_dispatch\u001b[0;34m(self, visitor, **kw)\u001b[0m\n\u001b[1;32m    141\u001b[0m     \u001b[38;5;28;01mreturn\u001b[39;00m visitor\u001b[38;5;241m.\u001b[39mvisit_unsupported_compilation(\u001b[38;5;28mself\u001b[39m, err, \u001b[38;5;241m*\u001b[39m\u001b[38;5;241m*\u001b[39mkw)  \u001b[38;5;66;03m# type: ignore  # noqa: E501\u001b[39;00m\n\u001b[1;32m    142\u001b[0m \u001b[38;5;28;01melse\u001b[39;00m:\n\u001b[0;32m--> 143\u001b[0m     \u001b[38;5;28;01mreturn\u001b[39;00m \u001b[43mmeth\u001b[49m\u001b[43m(\u001b[49m\u001b[38;5;28;43mself\u001b[39;49m\u001b[43m,\u001b[49m\u001b[43m \u001b[49m\u001b[38;5;241;43m*\u001b[39;49m\u001b[38;5;241;43m*\u001b[39;49m\u001b[43mkw\u001b[49m\u001b[43m)\u001b[49m\n",
      "File \u001b[0;32m~/.local/lib/python3.10/site-packages/sqlalchemy/sql/compiler.py:4590\u001b[0m, in \u001b[0;36mSQLCompiler.visit_select\u001b[0;34m(self, select_stmt, asfrom, insert_into, fromhints, compound_index, select_wraps_for, lateral, from_linter, **kwargs)\u001b[0m\n\u001b[1;32m   4582\u001b[0m \u001b[38;5;66;03m# initial setup of SELECT.  the compile_state_factory may now\u001b[39;00m\n\u001b[1;32m   4583\u001b[0m \u001b[38;5;66;03m# be creating a totally different SELECT from the one that was\u001b[39;00m\n\u001b[1;32m   4584\u001b[0m \u001b[38;5;66;03m# passed in.  for ORM use this will convert from an ORM-state\u001b[39;00m\n\u001b[1;32m   4585\u001b[0m \u001b[38;5;66;03m# SELECT to a regular \"Core\" SELECT.  other composed operations\u001b[39;00m\n\u001b[1;32m   4586\u001b[0m \u001b[38;5;66;03m# such as computation of joins will be performed.\u001b[39;00m\n\u001b[1;32m   4588\u001b[0m kwargs[\u001b[38;5;124m\"\u001b[39m\u001b[38;5;124mwithin_columns_clause\u001b[39m\u001b[38;5;124m\"\u001b[39m] \u001b[38;5;241m=\u001b[39m \u001b[38;5;28;01mFalse\u001b[39;00m\n\u001b[0;32m-> 4590\u001b[0m compile_state \u001b[38;5;241m=\u001b[39m \u001b[43mselect_stmt\u001b[49m\u001b[38;5;241;43m.\u001b[39;49m\u001b[43m_compile_state_factory\u001b[49m\u001b[43m(\u001b[49m\n\u001b[1;32m   4591\u001b[0m \u001b[43m    \u001b[49m\u001b[43mselect_stmt\u001b[49m\u001b[43m,\u001b[49m\u001b[43m \u001b[49m\u001b[38;5;28;43mself\u001b[39;49m\u001b[43m,\u001b[49m\u001b[43m \u001b[49m\u001b[38;5;241;43m*\u001b[39;49m\u001b[38;5;241;43m*\u001b[39;49m\u001b[43mkwargs\u001b[49m\n\u001b[1;32m   4592\u001b[0m \u001b[43m\u001b[49m\u001b[43m)\u001b[49m\n\u001b[1;32m   4593\u001b[0m kwargs[\n\u001b[1;32m   4594\u001b[0m     \u001b[38;5;124m\"\u001b[39m\u001b[38;5;124mambiguous_table_name_map\u001b[39m\u001b[38;5;124m\"\u001b[39m\n\u001b[1;32m   4595\u001b[0m ] \u001b[38;5;241m=\u001b[39m compile_state\u001b[38;5;241m.\u001b[39m_ambiguous_table_name_map\n\u001b[1;32m   4597\u001b[0m select_stmt \u001b[38;5;241m=\u001b[39m compile_state\u001b[38;5;241m.\u001b[39mstatement\n",
      "File \u001b[0;32m~/.local/lib/python3.10/site-packages/sqlalchemy/sql/base.py:687\u001b[0m, in \u001b[0;36mCompileState.create_for_statement\u001b[0;34m(cls, statement, compiler, **kw)\u001b[0m\n\u001b[1;32m    685\u001b[0m     \u001b[38;5;28;01mreturn\u001b[39;00m \u001b[38;5;28mcls\u001b[39m(statement, compiler, \u001b[38;5;241m*\u001b[39m\u001b[38;5;241m*\u001b[39mkw)\n\u001b[1;32m    686\u001b[0m \u001b[38;5;28;01melse\u001b[39;00m:\n\u001b[0;32m--> 687\u001b[0m     \u001b[38;5;28;01mreturn\u001b[39;00m \u001b[43mklass\u001b[49m\u001b[38;5;241;43m.\u001b[39;49m\u001b[43mcreate_for_statement\u001b[49m\u001b[43m(\u001b[49m\u001b[43mstatement\u001b[49m\u001b[43m,\u001b[49m\u001b[43m \u001b[49m\u001b[43mcompiler\u001b[49m\u001b[43m,\u001b[49m\u001b[43m \u001b[49m\u001b[38;5;241;43m*\u001b[39;49m\u001b[38;5;241;43m*\u001b[39;49m\u001b[43mkw\u001b[49m\u001b[43m)\u001b[49m\n",
      "File \u001b[0;32m~/.local/lib/python3.10/site-packages/sqlalchemy/orm/context.py:1091\u001b[0m, in \u001b[0;36mORMSelectCompileState.create_for_statement\u001b[0;34m(cls, statement, compiler, **kw)\u001b[0m\n\u001b[1;32m   1083\u001b[0m \u001b[38;5;66;03m# label_convention is stateful and will yield deduping keys if it\u001b[39;00m\n\u001b[1;32m   1084\u001b[0m \u001b[38;5;66;03m# sees the same key twice.  therefore it's important that it is not\u001b[39;00m\n\u001b[1;32m   1085\u001b[0m \u001b[38;5;66;03m# invoked for the above \"memoized\" entities that aren't actually\u001b[39;00m\n\u001b[1;32m   1086\u001b[0m \u001b[38;5;66;03m# in the columns clause\u001b[39;00m\n\u001b[1;32m   1087\u001b[0m \u001b[38;5;28mself\u001b[39m\u001b[38;5;241m.\u001b[39m_label_convention \u001b[38;5;241m=\u001b[39m \u001b[38;5;28mself\u001b[39m\u001b[38;5;241m.\u001b[39m_column_naming_convention(\n\u001b[1;32m   1088\u001b[0m     statement\u001b[38;5;241m.\u001b[39m_label_style, \u001b[38;5;28mself\u001b[39m\u001b[38;5;241m.\u001b[39muse_legacy_query_style\n\u001b[1;32m   1089\u001b[0m )\n\u001b[0;32m-> 1091\u001b[0m \u001b[43m_QueryEntity\u001b[49m\u001b[38;5;241;43m.\u001b[39;49m\u001b[43mto_compile_state\u001b[49m\u001b[43m(\u001b[49m\n\u001b[1;32m   1092\u001b[0m \u001b[43m    \u001b[49m\u001b[38;5;28;43mself\u001b[39;49m\u001b[43m,\u001b[49m\n\u001b[1;32m   1093\u001b[0m \u001b[43m    \u001b[49m\u001b[43mselect_statement\u001b[49m\u001b[38;5;241;43m.\u001b[39;49m\u001b[43m_raw_columns\u001b[49m\u001b[43m,\u001b[49m\n\u001b[1;32m   1094\u001b[0m \u001b[43m    \u001b[49m\u001b[38;5;28;43mself\u001b[39;49m\u001b[38;5;241;43m.\u001b[39;49m\u001b[43m_entities\u001b[49m\u001b[43m,\u001b[49m\n\u001b[1;32m   1095\u001b[0m \u001b[43m    \u001b[49m\u001b[43mis_current_entities\u001b[49m\u001b[38;5;241;43m=\u001b[39;49m\u001b[38;5;28;43;01mTrue\u001b[39;49;00m\u001b[43m,\u001b[49m\n\u001b[1;32m   1096\u001b[0m \u001b[43m\u001b[49m\u001b[43m)\u001b[49m\n\u001b[1;32m   1098\u001b[0m \u001b[38;5;28mself\u001b[39m\u001b[38;5;241m.\u001b[39mcurrent_path \u001b[38;5;241m=\u001b[39m select_statement\u001b[38;5;241m.\u001b[39m_compile_options\u001b[38;5;241m.\u001b[39m_current_path\n\u001b[1;32m   1100\u001b[0m \u001b[38;5;28mself\u001b[39m\u001b[38;5;241m.\u001b[39meager_order_by \u001b[38;5;241m=\u001b[39m ()\n",
      "File \u001b[0;32m~/.local/lib/python3.10/site-packages/sqlalchemy/orm/context.py:2544\u001b[0m, in \u001b[0;36m_QueryEntity.to_compile_state\u001b[0;34m(cls, compile_state, entities, entities_collection, is_current_entities)\u001b[0m\n\u001b[1;32m   2537\u001b[0m         _MapperEntity(\n\u001b[1;32m   2538\u001b[0m             compile_state,\n\u001b[1;32m   2539\u001b[0m             entity,\n\u001b[1;32m   2540\u001b[0m             entities_collection,\n\u001b[1;32m   2541\u001b[0m             is_current_entities,\n\u001b[1;32m   2542\u001b[0m         )\n\u001b[1;32m   2543\u001b[0m     \u001b[38;5;28;01melse\u001b[39;00m:\n\u001b[0;32m-> 2544\u001b[0m         \u001b[43m_ColumnEntity\u001b[49m\u001b[38;5;241;43m.\u001b[39;49m\u001b[43m_for_columns\u001b[49m\u001b[43m(\u001b[49m\n\u001b[1;32m   2545\u001b[0m \u001b[43m            \u001b[49m\u001b[43mcompile_state\u001b[49m\u001b[43m,\u001b[49m\n\u001b[1;32m   2546\u001b[0m \u001b[43m            \u001b[49m\u001b[43mentity\u001b[49m\u001b[38;5;241;43m.\u001b[39;49m\u001b[43m_select_iterable\u001b[49m\u001b[43m,\u001b[49m\n\u001b[1;32m   2547\u001b[0m \u001b[43m            \u001b[49m\u001b[43mentities_collection\u001b[49m\u001b[43m,\u001b[49m\n\u001b[1;32m   2548\u001b[0m \u001b[43m            \u001b[49m\u001b[43midx\u001b[49m\u001b[43m,\u001b[49m\n\u001b[1;32m   2549\u001b[0m \u001b[43m            \u001b[49m\u001b[43mis_current_entities\u001b[49m\u001b[43m,\u001b[49m\n\u001b[1;32m   2550\u001b[0m \u001b[43m        \u001b[49m\u001b[43m)\u001b[49m\n\u001b[1;32m   2551\u001b[0m \u001b[38;5;28;01melse\u001b[39;00m:\n\u001b[1;32m   2552\u001b[0m     \u001b[38;5;28;01mif\u001b[39;00m entity\u001b[38;5;241m.\u001b[39m_annotations\u001b[38;5;241m.\u001b[39mget(\u001b[38;5;124m\"\u001b[39m\u001b[38;5;124mbundle\u001b[39m\u001b[38;5;124m\"\u001b[39m, \u001b[38;5;28;01mFalse\u001b[39;00m):\n",
      "File \u001b[0;32m~/.local/lib/python3.10/site-packages/sqlalchemy/orm/context.py:2917\u001b[0m, in \u001b[0;36m_ColumnEntity._for_columns\u001b[0;34m(cls, compile_state, columns, entities_collection, raw_column_index, is_current_entities, parent_bundle)\u001b[0m\n\u001b[1;32m   2907\u001b[0m         _IdentityTokenEntity(\n\u001b[1;32m   2908\u001b[0m             compile_state,\n\u001b[1;32m   2909\u001b[0m             column,\n\u001b[0;32m   (...)\u001b[0m\n\u001b[1;32m   2914\u001b[0m             parent_bundle\u001b[38;5;241m=\u001b[39mparent_bundle,\n\u001b[1;32m   2915\u001b[0m         )\n\u001b[1;32m   2916\u001b[0m     \u001b[38;5;28;01melse\u001b[39;00m:\n\u001b[0;32m-> 2917\u001b[0m         \u001b[43m_ORMColumnEntity\u001b[49m\u001b[43m(\u001b[49m\n\u001b[1;32m   2918\u001b[0m \u001b[43m            \u001b[49m\u001b[43mcompile_state\u001b[49m\u001b[43m,\u001b[49m\n\u001b[1;32m   2919\u001b[0m \u001b[43m            \u001b[49m\u001b[43mcolumn\u001b[49m\u001b[43m,\u001b[49m\n\u001b[1;32m   2920\u001b[0m \u001b[43m            \u001b[49m\u001b[43mentities_collection\u001b[49m\u001b[43m,\u001b[49m\n\u001b[1;32m   2921\u001b[0m \u001b[43m            \u001b[49m\u001b[43m_entity\u001b[49m\u001b[43m,\u001b[49m\n\u001b[1;32m   2922\u001b[0m \u001b[43m            \u001b[49m\u001b[43mraw_column_index\u001b[49m\u001b[43m,\u001b[49m\n\u001b[1;32m   2923\u001b[0m \u001b[43m            \u001b[49m\u001b[43mis_current_entities\u001b[49m\u001b[43m,\u001b[49m\n\u001b[1;32m   2924\u001b[0m \u001b[43m            \u001b[49m\u001b[43mparent_bundle\u001b[49m\u001b[38;5;241;43m=\u001b[39;49m\u001b[43mparent_bundle\u001b[49m\u001b[43m,\u001b[49m\n\u001b[1;32m   2925\u001b[0m \u001b[43m        \u001b[49m\u001b[43m)\u001b[49m\n\u001b[1;32m   2926\u001b[0m \u001b[38;5;28;01melse\u001b[39;00m:\n\u001b[1;32m   2927\u001b[0m     _RawColumnEntity(\n\u001b[1;32m   2928\u001b[0m         compile_state,\n\u001b[1;32m   2929\u001b[0m         column,\n\u001b[0;32m   (...)\u001b[0m\n\u001b[1;32m   2933\u001b[0m         parent_bundle\u001b[38;5;241m=\u001b[39mparent_bundle,\n\u001b[1;32m   2934\u001b[0m     )\n",
      "File \u001b[0;32m~/.local/lib/python3.10/site-packages/sqlalchemy/orm/context.py:3131\u001b[0m, in \u001b[0;36m_ORMColumnEntity.__init__\u001b[0;34m(self, compile_state, column, entities_collection, parententity, raw_column_index, is_current_entities, parent_bundle)\u001b[0m\n\u001b[1;32m   3128\u001b[0m \u001b[38;5;28;01melse\u001b[39;00m:\n\u001b[1;32m   3129\u001b[0m     \u001b[38;5;28mself\u001b[39m\u001b[38;5;241m.\u001b[39m_label_name \u001b[38;5;241m=\u001b[39m \u001b[38;5;28;01mNone\u001b[39;00m\n\u001b[0;32m-> 3131\u001b[0m \u001b[43m_entity\u001b[49m\u001b[38;5;241;43m.\u001b[39;49m\u001b[43m_post_inspect\u001b[49m\n\u001b[1;32m   3132\u001b[0m \u001b[38;5;28mself\u001b[39m\u001b[38;5;241m.\u001b[39mentity_zero \u001b[38;5;241m=\u001b[39m \u001b[38;5;28mself\u001b[39m\u001b[38;5;241m.\u001b[39mentity_zero_or_selectable \u001b[38;5;241m=\u001b[39m ezero \u001b[38;5;241m=\u001b[39m _entity\n\u001b[1;32m   3133\u001b[0m \u001b[38;5;28mself\u001b[39m\u001b[38;5;241m.\u001b[39mmapper \u001b[38;5;241m=\u001b[39m mapper \u001b[38;5;241m=\u001b[39m _entity\u001b[38;5;241m.\u001b[39mmapper\n",
      "File \u001b[0;32m~/.local/lib/python3.10/site-packages/sqlalchemy/util/langhelpers.py:1260\u001b[0m, in \u001b[0;36mHasMemoized.memoized_attribute.__get__\u001b[0;34m(self, obj, cls)\u001b[0m\n\u001b[1;32m   1258\u001b[0m \u001b[38;5;28;01mif\u001b[39;00m obj \u001b[38;5;129;01mis\u001b[39;00m \u001b[38;5;28;01mNone\u001b[39;00m:\n\u001b[1;32m   1259\u001b[0m     \u001b[38;5;28;01mreturn\u001b[39;00m \u001b[38;5;28mself\u001b[39m\n\u001b[0;32m-> 1260\u001b[0m obj\u001b[38;5;241m.\u001b[39m\u001b[38;5;18m__dict__\u001b[39m[\u001b[38;5;28mself\u001b[39m\u001b[38;5;241m.\u001b[39m\u001b[38;5;18m__name__\u001b[39m] \u001b[38;5;241m=\u001b[39m result \u001b[38;5;241m=\u001b[39m \u001b[38;5;28;43mself\u001b[39;49m\u001b[38;5;241;43m.\u001b[39;49m\u001b[43mfget\u001b[49m\u001b[43m(\u001b[49m\u001b[43mobj\u001b[49m\u001b[43m)\u001b[49m\n\u001b[1;32m   1261\u001b[0m obj\u001b[38;5;241m.\u001b[39m_memoized_keys \u001b[38;5;241m|\u001b[39m\u001b[38;5;241m=\u001b[39m {\u001b[38;5;28mself\u001b[39m\u001b[38;5;241m.\u001b[39m\u001b[38;5;18m__name__\u001b[39m}\n\u001b[1;32m   1262\u001b[0m \u001b[38;5;28;01mreturn\u001b[39;00m result\n",
      "File \u001b[0;32m~/.local/lib/python3.10/site-packages/sqlalchemy/orm/mapper.py:2707\u001b[0m, in \u001b[0;36mMapper._post_inspect\u001b[0;34m(self)\u001b[0m\n\u001b[1;32m   2696\u001b[0m \u001b[38;5;129m@HasMemoized\u001b[39m\u001b[38;5;241m.\u001b[39mmemoized_attribute\n\u001b[1;32m   2697\u001b[0m \u001b[38;5;28;01mdef\u001b[39;00m \u001b[38;5;21m_post_inspect\u001b[39m(\u001b[38;5;28mself\u001b[39m):\n\u001b[1;32m   2698\u001b[0m \u001b[38;5;250m    \u001b[39m\u001b[38;5;124;03m\"\"\"This hook is invoked by attribute inspection.\u001b[39;00m\n\u001b[1;32m   2699\u001b[0m \n\u001b[1;32m   2700\u001b[0m \u001b[38;5;124;03m    E.g. when Query calls:\u001b[39;00m\n\u001b[0;32m   (...)\u001b[0m\n\u001b[1;32m   2705\u001b[0m \n\u001b[1;32m   2706\u001b[0m \u001b[38;5;124;03m    \"\"\"\u001b[39;00m\n\u001b[0;32m-> 2707\u001b[0m     \u001b[38;5;28;43mself\u001b[39;49m\u001b[38;5;241;43m.\u001b[39;49m\u001b[43m_check_configure\u001b[49m\u001b[43m(\u001b[49m\u001b[43m)\u001b[49m\n",
      "File \u001b[0;32m~/.local/lib/python3.10/site-packages/sqlalchemy/orm/mapper.py:2386\u001b[0m, in \u001b[0;36mMapper._check_configure\u001b[0;34m(self)\u001b[0m\n\u001b[1;32m   2378\u001b[0m \u001b[38;5;129m@util\u001b[39m\u001b[38;5;241m.\u001b[39mlanghelpers\u001b[38;5;241m.\u001b[39mtag_method_for_warnings(\n\u001b[1;32m   2379\u001b[0m     \u001b[38;5;124m\"\u001b[39m\u001b[38;5;124mThis warning originated from the `configure_mappers()` process, \u001b[39m\u001b[38;5;124m\"\u001b[39m\n\u001b[1;32m   2380\u001b[0m     \u001b[38;5;124m\"\u001b[39m\u001b[38;5;124mwhich was invoked automatically in response to a user-initiated \u001b[39m\u001b[38;5;124m\"\u001b[39m\n\u001b[0;32m   (...)\u001b[0m\n\u001b[1;32m   2383\u001b[0m )\n\u001b[1;32m   2384\u001b[0m \u001b[38;5;28;01mdef\u001b[39;00m \u001b[38;5;21m_check_configure\u001b[39m(\u001b[38;5;28mself\u001b[39m) \u001b[38;5;241m-\u001b[39m\u001b[38;5;241m>\u001b[39m \u001b[38;5;28;01mNone\u001b[39;00m:\n\u001b[1;32m   2385\u001b[0m     \u001b[38;5;28;01mif\u001b[39;00m \u001b[38;5;28mself\u001b[39m\u001b[38;5;241m.\u001b[39mregistry\u001b[38;5;241m.\u001b[39m_new_mappers:\n\u001b[0;32m-> 2386\u001b[0m         \u001b[43m_configure_registries\u001b[49m\u001b[43m(\u001b[49m\u001b[43m{\u001b[49m\u001b[38;5;28;43mself\u001b[39;49m\u001b[38;5;241;43m.\u001b[39;49m\u001b[43mregistry\u001b[49m\u001b[43m}\u001b[49m\u001b[43m,\u001b[49m\u001b[43m \u001b[49m\u001b[43mcascade\u001b[49m\u001b[38;5;241;43m=\u001b[39;49m\u001b[38;5;28;43;01mTrue\u001b[39;49;00m\u001b[43m)\u001b[49m\n",
      "File \u001b[0;32m~/.local/lib/python3.10/site-packages/sqlalchemy/orm/mapper.py:4199\u001b[0m, in \u001b[0;36m_configure_registries\u001b[0;34m(registries, cascade)\u001b[0m\n\u001b[1;32m   4193\u001b[0m     Mapper\u001b[38;5;241m.\u001b[39mdispatch\u001b[38;5;241m.\u001b[39m_for_class(Mapper)\u001b[38;5;241m.\u001b[39mbefore_configured()  \u001b[38;5;66;03m# type: ignore # noqa: E501\u001b[39;00m\n\u001b[1;32m   4194\u001b[0m     \u001b[38;5;66;03m# initialize properties on all mappers\u001b[39;00m\n\u001b[1;32m   4195\u001b[0m     \u001b[38;5;66;03m# note that _mapper_registry is unordered, which\u001b[39;00m\n\u001b[1;32m   4196\u001b[0m     \u001b[38;5;66;03m# may randomly conceal/reveal issues related to\u001b[39;00m\n\u001b[1;32m   4197\u001b[0m     \u001b[38;5;66;03m# the order of mapper compilation\u001b[39;00m\n\u001b[0;32m-> 4199\u001b[0m     \u001b[43m_do_configure_registries\u001b[49m\u001b[43m(\u001b[49m\u001b[43mregistries\u001b[49m\u001b[43m,\u001b[49m\u001b[43m \u001b[49m\u001b[43mcascade\u001b[49m\u001b[43m)\u001b[49m\n\u001b[1;32m   4200\u001b[0m \u001b[38;5;28;01mfinally\u001b[39;00m:\n\u001b[1;32m   4201\u001b[0m     _already_compiling \u001b[38;5;241m=\u001b[39m \u001b[38;5;28;01mFalse\u001b[39;00m\n",
      "File \u001b[0;32m~/.local/lib/python3.10/site-packages/sqlalchemy/orm/mapper.py:4240\u001b[0m, in \u001b[0;36m_do_configure_registries\u001b[0;34m(registries, cascade)\u001b[0m\n\u001b[1;32m   4238\u001b[0m \u001b[38;5;28;01mif\u001b[39;00m \u001b[38;5;129;01mnot\u001b[39;00m mapper\u001b[38;5;241m.\u001b[39mconfigured:\n\u001b[1;32m   4239\u001b[0m     \u001b[38;5;28;01mtry\u001b[39;00m:\n\u001b[0;32m-> 4240\u001b[0m         \u001b[43mmapper\u001b[49m\u001b[38;5;241;43m.\u001b[39;49m\u001b[43m_post_configure_properties\u001b[49m\u001b[43m(\u001b[49m\u001b[43m)\u001b[49m\n\u001b[1;32m   4241\u001b[0m         mapper\u001b[38;5;241m.\u001b[39m_expire_memoizations()\n\u001b[1;32m   4242\u001b[0m         mapper\u001b[38;5;241m.\u001b[39mdispatch\u001b[38;5;241m.\u001b[39mmapper_configured(mapper, mapper\u001b[38;5;241m.\u001b[39mclass_)\n",
      "File \u001b[0;32m~/.local/lib/python3.10/site-packages/sqlalchemy/orm/mapper.py:2403\u001b[0m, in \u001b[0;36mMapper._post_configure_properties\u001b[0;34m(self)\u001b[0m\n\u001b[1;32m   2400\u001b[0m \u001b[38;5;28mself\u001b[39m\u001b[38;5;241m.\u001b[39m_log(\u001b[38;5;124m\"\u001b[39m\u001b[38;5;124minitialize prop \u001b[39m\u001b[38;5;132;01m%s\u001b[39;00m\u001b[38;5;124m\"\u001b[39m, key)\n\u001b[1;32m   2402\u001b[0m \u001b[38;5;28;01mif\u001b[39;00m prop\u001b[38;5;241m.\u001b[39mparent \u001b[38;5;129;01mis\u001b[39;00m \u001b[38;5;28mself\u001b[39m \u001b[38;5;129;01mand\u001b[39;00m \u001b[38;5;129;01mnot\u001b[39;00m prop\u001b[38;5;241m.\u001b[39m_configure_started:\n\u001b[0;32m-> 2403\u001b[0m     \u001b[43mprop\u001b[49m\u001b[38;5;241;43m.\u001b[39;49m\u001b[43minit\u001b[49m\u001b[43m(\u001b[49m\u001b[43m)\u001b[49m\n\u001b[1;32m   2405\u001b[0m \u001b[38;5;28;01mif\u001b[39;00m prop\u001b[38;5;241m.\u001b[39m_configure_finished:\n\u001b[1;32m   2406\u001b[0m     prop\u001b[38;5;241m.\u001b[39mpost_instrument_class(\u001b[38;5;28mself\u001b[39m)\n",
      "File \u001b[0;32m~/.local/lib/python3.10/site-packages/sqlalchemy/orm/interfaces.py:579\u001b[0m, in \u001b[0;36mMapperProperty.init\u001b[0;34m(self)\u001b[0m\n\u001b[1;32m    572\u001b[0m \u001b[38;5;250m\u001b[39m\u001b[38;5;124;03m\"\"\"Called after all mappers are created to assemble\u001b[39;00m\n\u001b[1;32m    573\u001b[0m \u001b[38;5;124;03mrelationships between mappers and perform other post-mapper-creation\u001b[39;00m\n\u001b[1;32m    574\u001b[0m \u001b[38;5;124;03minitialization steps.\u001b[39;00m\n\u001b[1;32m    575\u001b[0m \n\u001b[1;32m    576\u001b[0m \n\u001b[1;32m    577\u001b[0m \u001b[38;5;124;03m\"\"\"\u001b[39;00m\n\u001b[1;32m    578\u001b[0m \u001b[38;5;28mself\u001b[39m\u001b[38;5;241m.\u001b[39m_configure_started \u001b[38;5;241m=\u001b[39m \u001b[38;5;28;01mTrue\u001b[39;00m\n\u001b[0;32m--> 579\u001b[0m \u001b[38;5;28;43mself\u001b[39;49m\u001b[38;5;241;43m.\u001b[39;49m\u001b[43mdo_init\u001b[49m\u001b[43m(\u001b[49m\u001b[43m)\u001b[49m\n\u001b[1;32m    580\u001b[0m \u001b[38;5;28mself\u001b[39m\u001b[38;5;241m.\u001b[39m_configure_finished \u001b[38;5;241m=\u001b[39m \u001b[38;5;28;01mTrue\u001b[39;00m\n",
      "File \u001b[0;32m~/.local/lib/python3.10/site-packages/sqlalchemy/orm/relationships.py:1640\u001b[0m, in \u001b[0;36mRelationshipProperty.do_init\u001b[0;34m(self)\u001b[0m\n\u001b[1;32m   1638\u001b[0m \u001b[38;5;28mself\u001b[39m\u001b[38;5;241m.\u001b[39m_check_cascade_settings(\u001b[38;5;28mself\u001b[39m\u001b[38;5;241m.\u001b[39m_cascade)\n\u001b[1;32m   1639\u001b[0m \u001b[38;5;28mself\u001b[39m\u001b[38;5;241m.\u001b[39m_post_init()\n\u001b[0;32m-> 1640\u001b[0m \u001b[38;5;28;43mself\u001b[39;49m\u001b[38;5;241;43m.\u001b[39;49m\u001b[43m_generate_backref\u001b[49m\u001b[43m(\u001b[49m\u001b[43m)\u001b[49m\n\u001b[1;32m   1641\u001b[0m \u001b[38;5;28mself\u001b[39m\u001b[38;5;241m.\u001b[39m_join_condition\u001b[38;5;241m.\u001b[39m_warn_for_conflicting_sync_targets()\n\u001b[1;32m   1642\u001b[0m \u001b[38;5;28msuper\u001b[39m()\u001b[38;5;241m.\u001b[39mdo_init()\n",
      "File \u001b[0;32m~/.local/lib/python3.10/site-packages/sqlalchemy/orm/relationships.py:2071\u001b[0m, in \u001b[0;36mRelationshipProperty._generate_backref\u001b[0;34m(self)\u001b[0m\n\u001b[1;32m   2069\u001b[0m     \u001b[38;5;28;01mfor\u001b[39;00m m \u001b[38;5;129;01min\u001b[39;00m check:\n\u001b[1;32m   2070\u001b[0m         \u001b[38;5;28;01mif\u001b[39;00m m\u001b[38;5;241m.\u001b[39mhas_property(backref_key) \u001b[38;5;129;01mand\u001b[39;00m \u001b[38;5;129;01mnot\u001b[39;00m m\u001b[38;5;241m.\u001b[39mconcrete:\n\u001b[0;32m-> 2071\u001b[0m             \u001b[38;5;28;01mraise\u001b[39;00m sa_exc\u001b[38;5;241m.\u001b[39mArgumentError(\n\u001b[1;32m   2072\u001b[0m                 \u001b[38;5;124m\"\u001b[39m\u001b[38;5;124mError creating backref \u001b[39m\u001b[38;5;124m\"\u001b[39m\n\u001b[1;32m   2073\u001b[0m                 \u001b[38;5;124m\"\u001b[39m\u001b[38;5;124m'\u001b[39m\u001b[38;5;132;01m%s\u001b[39;00m\u001b[38;5;124m'\u001b[39m\u001b[38;5;124m on relationship \u001b[39m\u001b[38;5;124m'\u001b[39m\u001b[38;5;132;01m%s\u001b[39;00m\u001b[38;5;124m'\u001b[39m\u001b[38;5;124m: property of that \u001b[39m\u001b[38;5;124m\"\u001b[39m\n\u001b[1;32m   2074\u001b[0m                 \u001b[38;5;124m\"\u001b[39m\u001b[38;5;124mname exists on mapper \u001b[39m\u001b[38;5;124m'\u001b[39m\u001b[38;5;132;01m%s\u001b[39;00m\u001b[38;5;124m'\u001b[39m\u001b[38;5;124m\"\u001b[39m\n\u001b[1;32m   2075\u001b[0m                 \u001b[38;5;241m%\u001b[39m (backref_key, \u001b[38;5;28mself\u001b[39m, m)\n\u001b[1;32m   2076\u001b[0m             )\n\u001b[1;32m   2078\u001b[0m \u001b[38;5;66;03m# determine primaryjoin/secondaryjoin for the\u001b[39;00m\n\u001b[1;32m   2079\u001b[0m \u001b[38;5;66;03m# backref.  Use the one we had, so that\u001b[39;00m\n\u001b[1;32m   2080\u001b[0m \u001b[38;5;66;03m# a custom join doesn't have to be specified in\u001b[39;00m\n\u001b[1;32m   2081\u001b[0m \u001b[38;5;66;03m# both directions.\u001b[39;00m\n\u001b[1;32m   2082\u001b[0m \u001b[38;5;28;01mif\u001b[39;00m \u001b[38;5;28mself\u001b[39m\u001b[38;5;241m.\u001b[39msecondary \u001b[38;5;129;01mis\u001b[39;00m \u001b[38;5;129;01mnot\u001b[39;00m \u001b[38;5;28;01mNone\u001b[39;00m:\n\u001b[1;32m   2083\u001b[0m     \u001b[38;5;66;03m# for many to many, just switch primaryjoin/\u001b[39;00m\n\u001b[1;32m   2084\u001b[0m     \u001b[38;5;66;03m# secondaryjoin.   use the annotated\u001b[39;00m\n\u001b[1;32m   2085\u001b[0m     \u001b[38;5;66;03m# pj/sj on the _join_condition.\u001b[39;00m\n",
      "\u001b[0;31mArgumentError\u001b[0m: Error creating backref 'movies' on relationship 'Movie.actors': property of that name exists on mapper 'Mapper[Actor(actor_info)]'"
     ]
    }
   ],
   "source": [
    "def table_dataframe(table_class):\n",
    "    query = text(f\"SELECT * FROM {table_class.__tablename__};\")\n",
    "    with db.engine.connect() as connection:\n",
    "        result = connection.execute(query)\n",
    "    return pd.DataFrame(result)\n",
    "\n",
    "def select_to_dataframe(query):\n",
    "    with db.engine.connect() as connection:\n",
    "        result = connection.execute(text(query))\n",
    "    return pd.DataFrame(result)\n",
    "\n",
    "def find_or_add_actor(actor_name):\n",
    "    # Check if the actor already exists in the database\n",
    "    existing_actor = Actor.query.filter_by(actor_name=actor_name).first()\n",
    "\n",
    "    if existing_actor:\n",
    "        return existing_actor\n",
    "    else:\n",
    "        # Create a new actor and add it to the session\n",
    "        new_actor = Actor(name=name)\n",
    "        # session.add(new_actor)\n",
    "        return new_actor\n",
    "\n",
    "# Create Movie\n",
    "def create_movie(movie_name, release_date, country, type, year, actors, moviebox):\n",
    "    maxid = db.session.query(func.max(Movie.movie_id)).scalar()\n",
    "    movie_id = str(int(maxid) + 1)\n",
    "    movie = Movie(movie_id=movie_id, movie_name=movie_name, release_date=release_date, country=country, type=type, year=year)\n",
    "    # movie.actors  = [find_or_add_actor(actor) for actor in actors]\n",
    "    for actor in actors:\n",
    "        movie.add_actor(find_or_add_actor(actor), relation_type='Lead')\n",
    "        \n",
    "    db.session.add(movie)\n",
    "    db.session.commit()\n",
    "\n",
    "new_movie = dict(\n",
    "    movie_name='坚如磐石', \n",
    "    release_date='2013/10/1',\n",
    "    country='中国', \n",
    "    type='动作', \n",
    "    year=2013, \n",
    "    actors=['张国立', '雷佳音', '于和伟'], \n",
    "    moviebox=15.5\n",
    ")\n",
    "\n",
    "new_movie = dict(\n",
    "    movie_name='满江红', \n",
    "    release_date='2013/5/15',\n",
    "    country='中国', \n",
    "    type='动作', \n",
    "    year=2013, \n",
    "    actors=['沈腾', '张译', '易烊千玺'], \n",
    "    moviebox=15.5\n",
    ")\n",
    "create_movie(**new_movie)    "
   ]
  },
  {
   "cell_type": "code",
   "execution_count": 9,
   "id": "db452a60-7476-4f33-b24b-5eb1f67e1d94",
   "metadata": {},
   "outputs": [
    {
     "data": {
      "text/plain": [
       "<Actor 沈腾>"
      ]
     },
     "execution_count": 9,
     "metadata": {},
     "output_type": "execute_result"
    }
   ],
   "source": []
  },
  {
   "cell_type": "code",
   "execution_count": null,
   "id": "536cac34-2bbd-4555-b8eb-e7fe8b6a169c",
   "metadata": {},
   "outputs": [],
   "source": []
  },
  {
   "cell_type": "code",
   "execution_count": null,
   "id": "b6cb4bef-00c9-4ac0-832a-37007dc3c957",
   "metadata": {},
   "outputs": [],
   "source": []
  },
  {
   "cell_type": "code",
   "execution_count": null,
   "id": "e4812fc0-5529-4a4d-98a1-fd1c0e8f77a0",
   "metadata": {},
   "outputs": [],
   "source": []
  },
  {
   "cell_type": "code",
   "execution_count": null,
   "id": "9aaaade6-5fc3-4c39-bbc3-651ae72fc434",
   "metadata": {},
   "outputs": [],
   "source": []
  },
  {
   "cell_type": "code",
   "execution_count": 105,
   "id": "864b76b9-7bca-450c-86ee-55dfbf5ae4e0",
   "metadata": {
    "tags": []
   },
   "outputs": [
    {
     "data": {
      "text/html": [
       "<div>\n",
       "<style scoped>\n",
       "    .dataframe tbody tr th:only-of-type {\n",
       "        vertical-align: middle;\n",
       "    }\n",
       "\n",
       "    .dataframe tbody tr th {\n",
       "        vertical-align: top;\n",
       "    }\n",
       "\n",
       "    .dataframe thead th {\n",
       "        text-align: right;\n",
       "    }\n",
       "</style>\n",
       "<table border=\"1\" class=\"dataframe\">\n",
       "  <thead>\n",
       "    <tr style=\"text-align: right;\">\n",
       "      <th></th>\n",
       "      <th>movie_id</th>\n",
       "      <th>movie_name</th>\n",
       "      <th>release_date</th>\n",
       "      <th>country</th>\n",
       "      <th>type</th>\n",
       "      <th>year</th>\n",
       "    </tr>\n",
       "  </thead>\n",
       "  <tbody>\n",
       "    <tr>\n",
       "      <th>0</th>\n",
       "      <td>1001</td>\n",
       "      <td>战狼2</td>\n",
       "      <td>2017/7/27</td>\n",
       "      <td>中国</td>\n",
       "      <td>战争</td>\n",
       "      <td>2017</td>\n",
       "    </tr>\n",
       "    <tr>\n",
       "      <th>1</th>\n",
       "      <td>1002</td>\n",
       "      <td>哪吒之魔童降世</td>\n",
       "      <td>2019/7/26</td>\n",
       "      <td>中国</td>\n",
       "      <td>动画</td>\n",
       "      <td>2019</td>\n",
       "    </tr>\n",
       "    <tr>\n",
       "      <th>2</th>\n",
       "      <td>1003</td>\n",
       "      <td>流浪地球</td>\n",
       "      <td>2019/2/5</td>\n",
       "      <td>中国</td>\n",
       "      <td>科幻</td>\n",
       "      <td>2019</td>\n",
       "    </tr>\n",
       "    <tr>\n",
       "      <th>3</th>\n",
       "      <td>1004</td>\n",
       "      <td>复仇者联盟4</td>\n",
       "      <td>2019/4/24</td>\n",
       "      <td>美国</td>\n",
       "      <td>科幻</td>\n",
       "      <td>2019</td>\n",
       "    </tr>\n",
       "    <tr>\n",
       "      <th>4</th>\n",
       "      <td>1005</td>\n",
       "      <td>红海行动</td>\n",
       "      <td>2018/2/16</td>\n",
       "      <td>中国</td>\n",
       "      <td>战争</td>\n",
       "      <td>2018</td>\n",
       "    </tr>\n",
       "  </tbody>\n",
       "</table>\n",
       "</div>"
      ],
      "text/plain": [
       "  movie_id movie_name release_date country type  year\n",
       "0     1001        战狼2    2017/7/27      中国   战争  2017\n",
       "1     1002    哪吒之魔童降世    2019/7/26      中国   动画  2019\n",
       "2     1003       流浪地球     2019/2/5      中国   科幻  2019\n",
       "3     1004     复仇者联盟4    2019/4/24      美国   科幻  2019\n",
       "4     1005       红海行动    2018/2/16      中国   战争  2018"
      ]
     },
     "execution_count": 105,
     "metadata": {},
     "output_type": "execute_result"
    }
   ],
   "source": [
    "table_dataframe(Movie).head()"
   ]
  },
  {
   "cell_type": "code",
   "execution_count": 106,
   "id": "638fbb76-56a9-4319-a499-d38ede12ca5e",
   "metadata": {},
   "outputs": [
    {
     "data": {
      "text/html": [
       "<div>\n",
       "<style scoped>\n",
       "    .dataframe tbody tr th:only-of-type {\n",
       "        vertical-align: middle;\n",
       "    }\n",
       "\n",
       "    .dataframe tbody tr th {\n",
       "        vertical-align: top;\n",
       "    }\n",
       "\n",
       "    .dataframe thead th {\n",
       "        text-align: right;\n",
       "    }\n",
       "</style>\n",
       "<table border=\"1\" class=\"dataframe\">\n",
       "  <thead>\n",
       "    <tr style=\"text-align: right;\">\n",
       "      <th></th>\n",
       "      <th>movie_id</th>\n",
       "      <th>box</th>\n",
       "    </tr>\n",
       "  </thead>\n",
       "  <tbody>\n",
       "    <tr>\n",
       "      <th>0</th>\n",
       "      <td>1001</td>\n",
       "      <td>56.84</td>\n",
       "    </tr>\n",
       "    <tr>\n",
       "      <th>1</th>\n",
       "      <td>1002</td>\n",
       "      <td>50.15</td>\n",
       "    </tr>\n",
       "    <tr>\n",
       "      <th>2</th>\n",
       "      <td>1003</td>\n",
       "      <td>46.86</td>\n",
       "    </tr>\n",
       "    <tr>\n",
       "      <th>3</th>\n",
       "      <td>1004</td>\n",
       "      <td>42.50</td>\n",
       "    </tr>\n",
       "    <tr>\n",
       "      <th>4</th>\n",
       "      <td>1005</td>\n",
       "      <td>36.50</td>\n",
       "    </tr>\n",
       "  </tbody>\n",
       "</table>\n",
       "</div>"
      ],
      "text/plain": [
       "  movie_id    box\n",
       "0     1001  56.84\n",
       "1     1002  50.15\n",
       "2     1003  46.86\n",
       "3     1004  42.50\n",
       "4     1005  36.50"
      ]
     },
     "execution_count": 106,
     "metadata": {},
     "output_type": "execute_result"
    }
   ],
   "source": [
    "table_dataframe(MovieBox).head()"
   ]
  },
  {
   "cell_type": "code",
   "execution_count": 107,
   "id": "e555d8f2-9c14-4053-90ff-ceaa32f01963",
   "metadata": {},
   "outputs": [
    {
     "data": {
      "text/plain": [
       "56.84"
      ]
     },
     "execution_count": 107,
     "metadata": {},
     "output_type": "execute_result"
    }
   ],
   "source": [
    "db.session.query(Movie).first().moviebox.box"
   ]
  },
  {
   "cell_type": "code",
   "execution_count": 108,
   "id": "8a7b77de-a212-48fd-9505-808b5c0fdc58",
   "metadata": {},
   "outputs": [
    {
     "data": {
      "text/html": [
       "<div>\n",
       "<style scoped>\n",
       "    .dataframe tbody tr th:only-of-type {\n",
       "        vertical-align: middle;\n",
       "    }\n",
       "\n",
       "    .dataframe tbody tr th {\n",
       "        vertical-align: top;\n",
       "    }\n",
       "\n",
       "    .dataframe thead th {\n",
       "        text-align: right;\n",
       "    }\n",
       "</style>\n",
       "<table border=\"1\" class=\"dataframe\">\n",
       "  <thead>\n",
       "    <tr style=\"text-align: right;\">\n",
       "      <th></th>\n",
       "      <th>id</th>\n",
       "      <th>movie_id</th>\n",
       "      <th>actor_id</th>\n",
       "      <th>relation_type</th>\n",
       "    </tr>\n",
       "  </thead>\n",
       "  <tbody>\n",
       "    <tr>\n",
       "      <th>0</th>\n",
       "      <td>1</td>\n",
       "      <td>1001</td>\n",
       "      <td>2001</td>\n",
       "      <td>主演</td>\n",
       "    </tr>\n",
       "    <tr>\n",
       "      <th>1</th>\n",
       "      <td>2</td>\n",
       "      <td>1001</td>\n",
       "      <td>2001</td>\n",
       "      <td>导演</td>\n",
       "    </tr>\n",
       "    <tr>\n",
       "      <th>2</th>\n",
       "      <td>3</td>\n",
       "      <td>1002</td>\n",
       "      <td>2002</td>\n",
       "      <td>导演</td>\n",
       "    </tr>\n",
       "    <tr>\n",
       "      <th>3</th>\n",
       "      <td>4</td>\n",
       "      <td>1003</td>\n",
       "      <td>2001</td>\n",
       "      <td>主演</td>\n",
       "    </tr>\n",
       "    <tr>\n",
       "      <th>4</th>\n",
       "      <td>5</td>\n",
       "      <td>1003</td>\n",
       "      <td>2003</td>\n",
       "      <td>主演</td>\n",
       "    </tr>\n",
       "  </tbody>\n",
       "</table>\n",
       "</div>"
      ],
      "text/plain": [
       "  id movie_id actor_id relation_type\n",
       "0  1     1001     2001            主演\n",
       "1  2     1001     2001            导演\n",
       "2  3     1002     2002            导演\n",
       "3  4     1003     2001            主演\n",
       "4  5     1003     2003            主演"
      ]
     },
     "execution_count": 108,
     "metadata": {},
     "output_type": "execute_result"
    }
   ],
   "source": [
    "select_to_dataframe('SELECT * FROM movie_actor_relation;').head()"
   ]
  },
  {
   "cell_type": "code",
   "execution_count": 121,
   "id": "4620cd37-e224-4c8f-8a88-150d0d7e7c00",
   "metadata": {},
   "outputs": [
    {
     "data": {
      "text/plain": [
       "[<Actor 吴京>, <Actor 屈楚萧>, <Actor 郭帆>]"
      ]
     },
     "execution_count": 121,
     "metadata": {},
     "output_type": "execute_result"
    }
   ],
   "source": [
    "Movie.query.filter_by(movie_id=1003).first().actors"
   ]
  },
  {
   "cell_type": "code",
   "execution_count": null,
   "id": "855b402e-591f-4775-82c0-4e5943c3ef7c",
   "metadata": {},
   "outputs": [],
   "source": []
  }
 ],
 "metadata": {
  "kernelspec": {
   "display_name": "Python 3 (ipykernel)",
   "language": "python",
   "name": "python3"
  },
  "language_info": {
   "codemirror_mode": {
    "name": "ipython",
    "version": 3
   },
   "file_extension": ".py",
   "mimetype": "text/x-python",
   "name": "python",
   "nbconvert_exporter": "python",
   "pygments_lexer": "ipython3",
   "version": "3.10.9"
  }
 },
 "nbformat": 4,
 "nbformat_minor": 5
}
