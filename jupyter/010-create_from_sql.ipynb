{
 "cells": [
  {
   "cell_type": "code",
   "execution_count": 1,
   "id": "f2cf64d0-38f9-4554-b344-b8d72edad973",
   "metadata": {},
   "outputs": [
    {
     "name": "stdout",
     "output_type": "stream",
     "text": [
      "Database created successfully at movieDB.db\n"
     ]
    }
   ],
   "source": [
    "import os\n",
    "import sqlite3\n",
    "\n",
    "sql_file = 'movie_query.sql'\n",
    "db_file = 'movieDB.db'\n",
    "\n",
    "if os.path.exists(db_file):\n",
    "    os.remove(db_file)\n",
    "\n",
    "def create_database(sql_file, db_file):\n",
    "    # Read the SQL file\n",
    "    with open(sql_file, 'r') as file:\n",
    "        sql_script = file.read()\n",
    "\n",
    "    # Connect to the SQLite database (it will be created if it doesn't exist)\n",
    "    connection = sqlite3.connect(db_file)\n",
    "\n",
    "    # Create a cursor object to execute SQL statements\n",
    "    cursor = connection.cursor()\n",
    "\n",
    "    try:\n",
    "        # Execute the SQL script\n",
    "        cursor.executescript(sql_script)\n",
    "\n",
    "        # Commit the changes\n",
    "        connection.commit()\n",
    "        print(f\"Database created successfully at {db_file}\")\n",
    "    except Exception as e:\n",
    "        # Rollback in case of an error\n",
    "        connection.rollback()\n",
    "        print(f\"Error: {e}\")\n",
    "    finally:\n",
    "        # Close the connection\n",
    "        connection.close()\n",
    "        \n",
    "sql_file = 'movie_query.sql'\n",
    "db_file = 'movieDB.db'\n",
    "\n",
    "\n",
    "create_database(sql_file, db_file)"
   ]
  },
  {
   "cell_type": "code",
   "execution_count": null,
   "id": "cbfff1b1-b0fb-458b-82c0-fe63b4bf0c80",
   "metadata": {},
   "outputs": [],
   "source": []
  }
 ],
 "metadata": {
  "kernelspec": {
   "display_name": "Python 3 (ipykernel)",
   "language": "python",
   "name": "python3"
  },
  "language_info": {
   "codemirror_mode": {
    "name": "ipython",
    "version": 3
   },
   "file_extension": ".py",
   "mimetype": "text/x-python",
   "name": "python",
   "nbconvert_exporter": "python",
   "pygments_lexer": "ipython3",
   "version": "3.10.9"
  }
 },
 "nbformat": 4,
 "nbformat_minor": 5
}
