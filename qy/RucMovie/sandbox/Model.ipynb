{
 "cells": [
  {
   "cell_type": "code",
   "execution_count": 7,
   "id": "745bfaac-9739-4c49-a63f-bae7c32c39a3",
   "metadata": {
    "tags": []
   },
   "outputs": [
    {
     "data": {
      "text/plain": [
       "[<Movie 战狼2>,\n",
       " <Movie 哪吒之魔童降世>,\n",
       " <Movie 流浪地球>,\n",
       " <Movie 复仇者联盟4>,\n",
       " <Movie 红海行动>,\n",
       " <Movie 唐人街探案2>,\n",
       " <Movie 我不是药神>,\n",
       " <Movie 中国机长>,\n",
       " <Movie 速度与激情8>,\n",
       " <Movie 西虹市首富>,\n",
       " <Movie 复仇者联盟3>,\n",
       " <Movie 捉妖记2>,\n",
       " <Movie 八佰>,\n",
       " <Movie 姜子牙>,\n",
       " <Movie Example Movie>,\n",
       " <Movie Example Movie>,\n",
       " <Movie Example Movie>]"
      ]
     },
     "execution_count": 7,
     "metadata": {},
     "output_type": "execute_result"
    }
   ],
   "source": [
    "from flask import Flask, render_template\n",
    "from markupsafe import escape\n",
    "\n",
    "from flask_sqlalchemy import SQLAlchemy\n",
    "from sqlalchemy import text\n",
    "from sqlalchemy.sql import func\n",
    "import os\n",
    "\n",
    "app = Flask(__name__)\n",
    "app.config['SQLALCHEMY_DATABASE_URI'] = 'sqlite:///' + os.path.join(app.root_path, 'movie.db')\n",
    "app.config['SQLALCHEMY_TRACK_MODIFICATIONS'] = False \n",
    "app.app_context().push()\n",
    "\n",
    "db = SQLAlchemy(app)\n",
    "\n",
    "# many to many relation\n",
    "movie_actor_association = db.Table(\n",
    "    'movie_actor_association',\n",
    "    db.Column('movie_id', db.Integer, db.ForeignKey('movie_info.movie_id')),\n",
    "    db.Column('actor_id', db.Integer, db.ForeignKey('actor_info.actor_id')),\n",
    ")\n",
    "\n",
    "movie_director_association = db.Table(\n",
    "    'movie_director_association',\n",
    "    db.Column('movie_id', db.Integer, db.ForeignKey('movie_info.movie_id')),\n",
    "    db.Column('actor_id', db.Integer, db.ForeignKey('actor_info.actor_id')),\n",
    ")\n",
    "\n",
    "class Movie(db.Model):\n",
    "    __tablename__ = 'movie_info'\n",
    "\n",
    "    movie_id = db.Column(db.Integer, primary_key=True, autoincrement=True)\n",
    "    movie_name = db.Column(db.String(20))\n",
    "    release_date = db.Column(db.String(15))\n",
    "    country = db.Column(db.String(20))\n",
    "    movie_type = db.Column(db.String(10))\n",
    "    release_year = db.Column(db.Integer)\n",
    "    \n",
    "    moviebox = db.relationship('MovieBox', back_populates='movies', uselist=False, cascade='all, delete-orphan')\n",
    "    actors = db.relationship('Actor', secondary=movie_actor_association, back_populates='movie_actors')\n",
    "    directors = db.relationship('Actor', secondary=movie_director_association, back_populates='movie_directs')\n",
    "    \n",
    "    def __repr__(self):\n",
    "        return f'<Movie {self.movie_name}>'\n",
    "    \n",
    "class Actor(db.Model):\n",
    "    __tablename__ = 'actor_info'\n",
    "\n",
    "    actor_id = db.Column(db.Integer, primary_key=True, autoincrement=True)\n",
    "    actor_name = db.Column(db.String(20))\n",
    "    gender = db.Column(db.String(2))\n",
    "    country = db.Column(db.String(20))\n",
    "    \n",
    "    movie_actors = db.relationship('Movie', secondary=movie_actor_association)\n",
    "    movie_directs = db.relationship('Movie', secondary=movie_director_association)\n",
    "    \n",
    "    def __repr__(self):\n",
    "        return f'<Actor {self.actor_name}>'    \n",
    "    \n",
    "# one to one relation\n",
    "class MovieBox(db.Model):\n",
    "    __tablename__ = 'movie_box'\n",
    "    box_id = db.Column(db.Integer, primary_key=True, autoincrement=True)\n",
    "    movie_id = db.Column(db.String(10), db.ForeignKey('movie_info.movie_id'))\n",
    "    movie_box = db.Column(db.Float)\n",
    "    movies = db.relationship('Movie', back_populates='moviebox')\n",
    "\n",
    "movies = Movie.query.all()\n",
    "movies"
   ]
  },
  {
   "cell_type": "markdown",
   "id": "080d2a5f-f473-469c-adaa-c993aa913527",
   "metadata": {
    "tags": []
   },
   "source": [
    "### 删除最后一部电影"
   ]
  },
  {
   "cell_type": "code",
   "execution_count": 8,
   "id": "02b42ed0-780d-4e43-8ace-a3379996fb9b",
   "metadata": {
    "tags": []
   },
   "outputs": [
    {
     "name": "stdout",
     "output_type": "stream",
     "text": [
      "Movie with ID 1022 has been deleted.\n"
     ]
    },
    {
     "data": {
      "text/plain": [
       "[<Movie 战狼2>,\n",
       " <Movie 哪吒之魔童降世>,\n",
       " <Movie 流浪地球>,\n",
       " <Movie 复仇者联盟4>,\n",
       " <Movie 红海行动>,\n",
       " <Movie 唐人街探案2>,\n",
       " <Movie 我不是药神>,\n",
       " <Movie 中国机长>,\n",
       " <Movie 速度与激情8>,\n",
       " <Movie 西虹市首富>,\n",
       " <Movie 复仇者联盟3>,\n",
       " <Movie 捉妖记2>,\n",
       " <Movie 八佰>,\n",
       " <Movie 姜子牙>,\n",
       " <Movie Example Movie>,\n",
       " <Movie Example Movie>]"
      ]
     },
     "execution_count": 8,
     "metadata": {},
     "output_type": "execute_result"
    }
   ],
   "source": [
    "movie_id = Movie.query.all()[-1].movie_id\n",
    "def delete_movie(movie_id):\n",
    "    # Step 1: Retrieve the movie by its ID\n",
    "    movie = Movie.query.get_or_404(movie_id)\n",
    "\n",
    "    if movie:\n",
    "        if len(movie.actors)>0:\n",
    "            for actor in movie.actors:\n",
    "                db.session.delete(actor)\n",
    "        if len(movie.directors)>0:\n",
    "            for director in movie.directors:\n",
    "                db.session.delete(director)\n",
    "        if movie.moviebox:\n",
    "            db.session.delete(movie.moviebox)\n",
    "        db.session.delete(movie)\n",
    "        try:\n",
    "            db.session.commit()\n",
    "            print(f\"Movie with ID {movie_id} has been deleted.\")\n",
    "        except:\n",
    "            db.session.rollback()\n",
    "            print(f\"Movie with ID {movie_id} not found.\")\n",
    "        \n",
    "delete_movie(movie_id)\n",
    "Movie.query.all()"
   ]
  },
  {
   "cell_type": "markdown",
   "id": "082c2fdd-a38a-4f6b-a74a-c47c06ebb4b1",
   "metadata": {
    "tags": []
   },
   "source": [
    "### Add a Movie"
   ]
  },
  {
   "cell_type": "code",
   "execution_count": 6,
   "id": "b3bfaf98-9d98-4a0d-9bd5-f48704d36a1b",
   "metadata": {
    "tags": []
   },
   "outputs": [
    {
     "name": "stdout",
     "output_type": "stream",
     "text": [
      "Movie 'Example Movie' has been added with ID 1022.\n"
     ]
    },
    {
     "data": {
      "text/plain": [
       "[<Movie 战狼2>,\n",
       " <Movie 哪吒之魔童降世>,\n",
       " <Movie 流浪地球>,\n",
       " <Movie 复仇者联盟4>,\n",
       " <Movie 红海行动>,\n",
       " <Movie 唐人街探案2>,\n",
       " <Movie 我不是药神>,\n",
       " <Movie 中国机长>,\n",
       " <Movie 速度与激情8>,\n",
       " <Movie 西虹市首富>,\n",
       " <Movie 复仇者联盟3>,\n",
       " <Movie 捉妖记2>,\n",
       " <Movie 八佰>,\n",
       " <Movie 姜子牙>,\n",
       " <Movie Example Movie>,\n",
       " <Movie Example Movie>,\n",
       " <Movie Example Movie>]"
      ]
     },
     "execution_count": 6,
     "metadata": {},
     "output_type": "execute_result"
    }
   ],
   "source": [
    "def add_movie(movie_data):\n",
    "    # Step 1: Create a new Movie object\n",
    "    new_movie = Movie(\n",
    "        movie_name=movie_data['movie_name'],\n",
    "        release_date=movie_data['release_date'],\n",
    "        country=movie_data['country'],\n",
    "        movie_type=movie_data['movie_type'],\n",
    "        release_year=movie_data['release_year']\n",
    "    )\n",
    "\n",
    "    # Step 2: Add any associated records or relationships\n",
    "    # Add actors to the movie\n",
    "    actors_data = movie_data.get('actors', [])\n",
    "    for actor_data in actors_data:\n",
    "        actor = Actor(**actor_data)\n",
    "        new_movie.actors.append(actor)\n",
    "\n",
    "    # Add directors to the movie\n",
    "    directors_data = movie_data.get('directors', [])\n",
    "    for director_data in directors_data:\n",
    "        director = Actor(**director_data)\n",
    "        new_movie.directors.append(director)\n",
    "\n",
    "    # Add movie box details\n",
    "    movie_box_data = movie_data.get('movie_box', {})\n",
    "    if movie_box_data:\n",
    "        movie_box = MovieBox(**movie_box_data)\n",
    "        new_movie.moviebox = movie_box\n",
    "\n",
    "    # Step 3: Add the movie to the database\n",
    "    db.session.add(new_movie)\n",
    "    db.session.commit()\n",
    "\n",
    "    print(f\"Movie '{new_movie.movie_name}' has been added with ID {new_movie.movie_id}.\")\n",
    "\n",
    "# Example usage:\n",
    "movie_data = {\n",
    "    'movie_name': 'Example Movie',\n",
    "    'release_date': '2023-01-01',\n",
    "    'country': 'Example Country',\n",
    "    'movie_type': 'Action',\n",
    "    'release_year': 2023,\n",
    "    'actors': [\n",
    "        {'actor_name': 'Actor 1', 'gender': 'M', 'country': 'Country 1'},\n",
    "        {'actor_name': 'Actor 2', 'gender': 'F', 'country': 'Country 2'}\n",
    "    ],\n",
    "    'directors': [\n",
    "        {'actor_name': 'Director 1', 'gender': 'M', 'country': 'Country 3'}\n",
    "    ],\n",
    "    'movie_box': {'movie_box': 1000000.00}\n",
    "}\n",
    "\n",
    "add_movie(movie_data)\n",
    "Movie.query.all()"
   ]
  },
  {
   "cell_type": "code",
   "execution_count": 4,
   "id": "28fe5e13-2a7f-45f2-bfce-098a61e19977",
   "metadata": {
    "tags": []
   },
   "outputs": [
    {
     "data": {
      "text/plain": [
       "[<Actor Actor 2>, <Actor Actor 1>]"
      ]
     },
     "execution_count": 4,
     "metadata": {},
     "output_type": "execute_result"
    }
   ],
   "source": [
    "Movie.query.all()[-1].actors"
   ]
  },
  {
   "cell_type": "code",
   "execution_count": 67,
   "id": "8788238f-2817-4f5a-a4ea-51fbe7d8348a",
   "metadata": {
    "tags": []
   },
   "outputs": [],
   "source": [
    "db.session.rollback()"
   ]
  },
  {
   "cell_type": "code",
   "execution_count": null,
   "id": "fcfbb0a2-a63d-41a7-a3eb-b64fe75ed297",
   "metadata": {},
   "outputs": [],
   "source": []
  }
 ],
 "metadata": {
  "kernelspec": {
   "display_name": "Python 3 (ipykernel)",
   "language": "python",
   "name": "python3"
  },
  "language_info": {
   "codemirror_mode": {
    "name": "ipython",
    "version": 3
   },
   "file_extension": ".py",
   "mimetype": "text/x-python",
   "name": "python",
   "nbconvert_exporter": "python",
   "pygments_lexer": "ipython3",
   "version": "3.11.5"
  }
 },
 "nbformat": 4,
 "nbformat_minor": 5
}
