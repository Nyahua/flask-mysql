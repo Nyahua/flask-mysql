{
 "cells": [
  {
   "cell_type": "code",
   "execution_count": 50,
   "id": "7b04fde5-0062-4ee2-8738-4f6e226dadc1",
   "metadata": {},
   "outputs": [],
   "source": [
    "from flask import Flask \n",
    "from flask_sqlalchemy import SQLAlchemy\n",
    "from sqlalchemy import text as query_text\n",
    "from sqlalchemy.sql import func\n",
    "import os\n",
    "\n",
    "import pandas as pd\n",
    "import numpy as np\n",
    "\n",
    "app = Flask(__name__)\n",
    "# Configure SQLite database\n",
    "app.config['SQLALCHEMY_DATABASE_URI'] = 'sqlite:///' + os.path.join(app.root_path, 'douban.db')\n",
    "app.config['SQLALCHEMY_TRACK_MODIFICATIONS'] = False\n",
    "app.app_context().push()\n",
    "\n",
    "db = SQLAlchemy(app)\n",
    "\n",
    "def execute_scripts(scripts):\n",
    "    scripts = [sql.strip() for sql in sql_script.split(';')]\n",
    "    db.session.begin()\n",
    "    for sql in scripts:\n",
    "        db.session.execute(query_text(sql))\n",
    "    try:\n",
    "        db.session.commit()\n",
    "        print(f'Execute sucessfully.')\n",
    "    except Exception as e:\n",
    "        session.rollback()\n",
    "        print(f'Error during transaction: {e}')"
   ]
  },
  {
   "cell_type": "code",
   "execution_count": 54,
   "id": "73ae84ef-94be-4cc5-9740-54764139e357",
   "metadata": {},
   "outputs": [
    {
     "name": "stdout",
     "output_type": "stream",
     "text": [
      "Execute sucessfully.\n"
     ]
    },
    {
     "data": {
      "text/plain": [
       "428"
      ]
     },
     "execution_count": 54,
     "metadata": {},
     "output_type": "execute_result"
    }
   ],
   "source": [
    "sql_script = \"\"\"\n",
    "DROP TABLE IF EXISTS movies;\n",
    "CREATE TABLE IF NOT EXISTS movies (\n",
    "    movie_id INTEGER PRIMARY KEY NOT NULL,\n",
    "    movie_name TEXT NOT NULL,\n",
    "    release_date DATETIME,\n",
    "    country TEXT,\n",
    "    movie_type TEXT,\n",
    "    release_year INTEGER,\n",
    "    description TEXT,\n",
    "    douban_url TEXT,\n",
    "    poster TEXT,\n",
    "    douban_rate FLOAT,\n",
    "    rating_count INTEGER\n",
    ");\n",
    "\"\"\"\n",
    "execute_scripts(sql_script)\n",
    "\n",
    "movies = pd.read_csv('douban/movies.csv')\n",
    "cols_str = ['director', 'author', 'actor', 'genre', 'aggregateRating']\n",
    "movies[cols_str] = movies[cols_str].map(eval)\n",
    "\n",
    "movies['release_date'] = pd.to_datetime(movies.datePublished)\n",
    "movies['release_year'] = movies.release_date.dt.year\n",
    "movies['description'] = movies['description']\n",
    "movies['douban_url'] = movies['url'].apply(lambda x: f\"https://movie.douban.com{x}\")\n",
    "movies['douban_rate'] = movies['aggregateRating'].apply(lambda x: x['ratingValue'])\n",
    "movies['rating_count'] = movies['aggregateRating'].apply(lambda x: x['ratingCount'])\n",
    "movies['movie_type'] = movies['genre'].apply(lambda x: x[0]if len(x)==1 else x[1])\n",
    "cols  = ['movie_id', 'name',  'release_date', 'country', 'movie_type', 'release_year', 'description', 'douban_url', 'image', 'douban_rate', 'rating_count']\n",
    "df = movies.reset_index()[cols]\n",
    "df.columns = ['movie_id', 'movie_name',  'release_date', 'country', 'movie_type', 'release_year', 'description', 'douban_url', 'poster', 'douban_rate', 'rating_count']\n",
    "df.to_sql('movie_info', db.engine, if_exists='append', index=False)"
   ]
  },
  {
   "cell_type": "code",
   "execution_count": 67,
   "id": "ac135ee5-604f-4c6a-ac41-36dba14d7474",
   "metadata": {},
   "outputs": [
    {
     "name": "stdout",
     "output_type": "stream",
     "text": [
      "Execute sucessfully.\n"
     ]
    },
    {
     "data": {
      "text/plain": [
       "10028"
      ]
     },
     "execution_count": 67,
     "metadata": {},
     "output_type": "execute_result"
    }
   ],
   "source": [
    "sql_script = \"\"\"\n",
    "DROP TABLE IF EXISTS persons;\n",
    "CREATE TABLE IF NOT EXISTS persons (\n",
    "    person_id INTEGER PRIMARY KEY NOT NULL,\n",
    "    person_name TEXT NOT NULL,\n",
    "    person_name_en TEXTL\n",
    ");\n",
    "\"\"\"\n",
    "\n",
    "persons = pd.read_csv('douban/persons.csv').fillna('')\n",
    "execute_scripts(sql_script)\n",
    "cols  = ['person_id', 'name_cn', 'name_en']\n",
    "df = persons[cols]\n",
    "df.columns = ['person_id', 'person_name', 'person_name_en']\n",
    "df.to_sql('persons', db.engine, if_exists='append', index=False)"
   ]
  },
  {
   "cell_type": "code",
   "execution_count": null,
   "id": "31ee7592-471a-46fc-bd80-321b54fac85c",
   "metadata": {},
   "outputs": [],
   "source": []
  }
 ],
 "metadata": {
  "kernelspec": {
   "display_name": "Python 3 (ipykernel)",
   "language": "python",
   "name": "python3"
  },
  "language_info": {
   "codemirror_mode": {
    "name": "ipython",
    "version": 3
   },
   "file_extension": ".py",
   "mimetype": "text/x-python",
   "name": "python",
   "nbconvert_exporter": "python",
   "pygments_lexer": "ipython3",
   "version": "3.10.9"
  }
 },
 "nbformat": 4,
 "nbformat_minor": 5
}
