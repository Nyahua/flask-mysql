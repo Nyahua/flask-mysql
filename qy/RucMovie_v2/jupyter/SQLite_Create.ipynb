{
 "cells": [
  {
   "cell_type": "code",
   "execution_count": 1,
   "id": "7b04fde5-0062-4ee2-8738-4f6e226dadc1",
   "metadata": {},
   "outputs": [],
   "source": [
    "from flask import Flask \n",
    "from flask_sqlalchemy import SQLAlchemy\n",
    "from sqlalchemy import text as query_text\n",
    "from sqlalchemy.sql import func\n",
    "import os\n",
    "import re\n",
    "\n",
    "\n",
    "import pandas as pd\n",
    "import numpy as np\n",
    "\n",
    "app = Flask(__name__)\n",
    "# Configure SQLite database\n",
    "app.config['SQLALCHEMY_DATABASE_URI'] = 'sqlite:///' + os.path.join(app.root_path, '../douban.db')\n",
    "app.config['SQLALCHEMY_TRACK_MODIFICATIONS'] = False\n",
    "app.app_context().push()\n",
    "\n",
    "db = SQLAlchemy(app)\n",
    "\n",
    "def execute_scripts(scripts):\n",
    "    scripts = [sql.strip() for sql in sql_script.split(';')]\n",
    "    db.session.begin()\n",
    "    for sql in scripts:\n",
    "        db.session.execute(query_text(sql))\n",
    "    try:\n",
    "        db.session.commit()\n",
    "        print(f'Execute sucessfully.')\n",
    "    except Exception as e:\n",
    "        session.rollback()\n",
    "        print(f'Error during transaction: {e}')"
   ]
  },
  {
   "cell_type": "code",
   "execution_count": 2,
   "id": "73ae84ef-94be-4cc5-9740-54764139e357",
   "metadata": {},
   "outputs": [
    {
     "name": "stdout",
     "output_type": "stream",
     "text": [
      "Execute sucessfully.\n"
     ]
    },
    {
     "data": {
      "text/plain": [
       "428"
      ]
     },
     "execution_count": 2,
     "metadata": {},
     "output_type": "execute_result"
    }
   ],
   "source": [
    "sql_script = \"\"\"\n",
    "DROP TABLE IF EXISTS douban_movies;\n",
    "CREATE TABLE IF NOT EXISTS douban_movies (\n",
    "    movie_id INTEGER PRIMARY KEY NOT NULL,\n",
    "    movie_name TEXT NOT NULL,\n",
    "    release_date DATETIME,\n",
    "    country TEXT,\n",
    "    movie_type TEXT,\n",
    "    release_year INTEGER,\n",
    "    description TEXT,\n",
    "    douban_url TEXT,\n",
    "    poster TEXT,\n",
    "    douban_rate FLOAT,\n",
    "    rating_count INTEGER\n",
    ");\n",
    "\"\"\"\n",
    "execute_scripts(sql_script)\n",
    "\n",
    "movies = pd.read_csv('douban/movies.csv')\n",
    "cols_str = ['director', 'author', 'actor', 'genre', 'aggregateRating']\n",
    "movies[cols_str] = movies[cols_str].map(eval)\n",
    "\n",
    "movies['release_date'] = pd.to_datetime(movies.datePublished)\n",
    "movies['release_year'] = movies.release_date.dt.year\n",
    "movies['description'] = movies['description']\n",
    "movies['douban_url'] = movies['url'].apply(lambda x: f\"https://movie.douban.com{x}\")\n",
    "movies['douban_rate'] = movies['aggregateRating'].apply(lambda x: float(x['ratingValue']))\n",
    "movies['rating_count'] = movies['aggregateRating'].apply(lambda x: int(x['ratingCount']))\n",
    "movies['movie_type'] = movies['genre'].apply(lambda x: x[0]if len(x)==1 else x[1])\n",
    "cols  = ['movie_id', 'name',  'release_date', 'country', 'movie_type', 'release_year', 'description', 'douban_url', 'image', 'douban_rate', 'rating_count']\n",
    "df = movies.reset_index()[cols]\n",
    "df.columns = ['movie_id', 'movie_name',  'release_date', 'country', 'movie_type', 'release_year', 'description', 'douban_url', 'poster', 'douban_rate', 'rating_count']\n",
    "df.to_sql('douban_movies', db.engine, if_exists='append', index=False)"
   ]
  },
  {
   "cell_type": "code",
   "execution_count": 3,
   "id": "ac135ee5-604f-4c6a-ac41-36dba14d7474",
   "metadata": {},
   "outputs": [
    {
     "name": "stdout",
     "output_type": "stream",
     "text": [
      "Execute sucessfully.\n"
     ]
    },
    {
     "data": {
      "text/plain": [
       "10028"
      ]
     },
     "execution_count": 3,
     "metadata": {},
     "output_type": "execute_result"
    }
   ],
   "source": [
    "sql_script = \"\"\"\n",
    "DROP TABLE IF EXISTS persons;\n",
    "CREATE TABLE IF NOT EXISTS persons (\n",
    "    person_id INTEGER PRIMARY KEY NOT NULL,\n",
    "    person_name TEXT NOT NULL,\n",
    "    person_name_en TEXT,\n",
    "    gender TEXT,\n",
    "    birth_date TEXT,\n",
    "    birth_place TEXT,\n",
    "    birth_year INTEGR\n",
    ");\n",
    "\"\"\"\n",
    "execute_scripts(sql_script)\n",
    "\n",
    "persons = pd.read_csv('douban/celebrities.csv').fillna('')\n",
    "cols  = ['person_id', 'name_cn', 'name_en', '性别', '出生日期', '出生地']\n",
    "df = persons[cols].copy()\n",
    "df['birtch_year'] = df['出生日期'].str.findall('\\d+').apply(lambda x: np.nan if len(x)==0 else x[0])\n",
    "df.columns = ['person_id', 'person_name', 'person_name_en', 'gender', 'birth_date', 'birth_place', 'birth_year']\n",
    "\n",
    "df.to_sql('persons', db.engine, if_exists='replace', index=False)"
   ]
  },
  {
   "cell_type": "code",
   "execution_count": 4,
   "id": "c3bdd387-c8cd-4275-9461-aee75c1d1cdc",
   "metadata": {},
   "outputs": [
    {
     "name": "stdout",
     "output_type": "stream",
     "text": [
      "Execute sucessfully.\n"
     ]
    },
    {
     "data": {
      "text/plain": [
       "13398"
      ]
     },
     "execution_count": 4,
     "metadata": {},
     "output_type": "execute_result"
    }
   ],
   "source": [
    "sql_script = \"\"\"\n",
    "DROP TABLE IF EXISTS movie_person_association;\n",
    "CREATE TABLE IF NOT EXISTS movie_person_association (\n",
    "    id INTEGER PRIMARY KEY AUTOINCREMENT,\n",
    "    movie_id INTEGER  NOT NULL,\n",
    "    person_id INTEGER NOT NULL,\n",
    "    movie_role TEXT\n",
    ");\n",
    "\"\"\"\n",
    "execute_scripts(sql_script)\n",
    "\n",
    "relations = pd.read_csv('douban/relations.csv')\n",
    "relations.to_sql('movie_person_association', db.engine, if_exists='replace', index=False)"
   ]
  },
  {
   "cell_type": "code",
   "execution_count": 5,
   "id": "e0a9c161-b14c-44a6-9407-2748fe87d403",
   "metadata": {},
   "outputs": [
    {
     "name": "stdout",
     "output_type": "stream",
     "text": [
      "Execute sucessfully.\n"
     ]
    },
    {
     "data": {
      "text/plain": [
       "11819"
      ]
     },
     "execution_count": 5,
     "metadata": {},
     "output_type": "execute_result"
    }
   ],
   "source": [
    "sql_script = \"\"\"\n",
    "DROP TABLE IF EXISTS movie_actor_association;\n",
    "CREATE TABLE IF NOT EXISTS movie_actor_association (\n",
    "    id INTEGER PRIMARY KEY AUTOINCREMENT,\n",
    "    movie_id INTEGER  NOT NULL,\n",
    "    person_id INTEGER NOT NULL\n",
    ");\n",
    "\"\"\"\n",
    "execute_scripts(sql_script)\n",
    "\n",
    "relations = pd.read_csv('douban/relations.csv')\n",
    "movie_actor_relation = relations.loc[relations.movie_role=='actor', ['movie_id', 'person_id']].reset_index(drop=True)\n",
    "movie_actor_relation.to_sql('movie_actor_association', db.engine, if_exists='replace', index=False)"
   ]
  },
  {
   "cell_type": "code",
   "execution_count": 6,
   "id": "0a474d10-9733-4e5d-a2a9-f8a91b12b7ff",
   "metadata": {},
   "outputs": [
    {
     "data": {
      "text/html": [
       "<div>\n",
       "<style scoped>\n",
       "    .dataframe tbody tr th:only-of-type {\n",
       "        vertical-align: middle;\n",
       "    }\n",
       "\n",
       "    .dataframe tbody tr th {\n",
       "        vertical-align: top;\n",
       "    }\n",
       "\n",
       "    .dataframe thead th {\n",
       "        text-align: right;\n",
       "    }\n",
       "</style>\n",
       "<table border=\"1\" class=\"dataframe\">\n",
       "  <thead>\n",
       "    <tr style=\"text-align: right;\">\n",
       "      <th></th>\n",
       "      <th>person_id</th>\n",
       "      <th>movie_id</th>\n",
       "      <th>movie_role</th>\n",
       "    </tr>\n",
       "  </thead>\n",
       "  <tbody>\n",
       "    <tr>\n",
       "      <th>0</th>\n",
       "      <td>1349765</td>\n",
       "      <td>26752088</td>\n",
       "      <td>director</td>\n",
       "    </tr>\n",
       "    <tr>\n",
       "      <th>1</th>\n",
       "      <td>1047973</td>\n",
       "      <td>1292052</td>\n",
       "      <td>director</td>\n",
       "    </tr>\n",
       "    <tr>\n",
       "      <th>2</th>\n",
       "      <td>1054524</td>\n",
       "      <td>3541415</td>\n",
       "      <td>director</td>\n",
       "    </tr>\n",
       "    <tr>\n",
       "      <th>3</th>\n",
       "      <td>1328441</td>\n",
       "      <td>26794435</td>\n",
       "      <td>director</td>\n",
       "    </tr>\n",
       "    <tr>\n",
       "      <th>4</th>\n",
       "      <td>1054439</td>\n",
       "      <td>1291561</td>\n",
       "      <td>director</td>\n",
       "    </tr>\n",
       "    <tr>\n",
       "      <th>...</th>\n",
       "      <td>...</td>\n",
       "      <td>...</td>\n",
       "      <td>...</td>\n",
       "    </tr>\n",
       "    <tr>\n",
       "      <th>13393</th>\n",
       "      <td>1150778</td>\n",
       "      <td>1325958</td>\n",
       "      <td>actor</td>\n",
       "    </tr>\n",
       "    <tr>\n",
       "      <th>13394</th>\n",
       "      <td>1054487</td>\n",
       "      <td>1325958</td>\n",
       "      <td>actor</td>\n",
       "    </tr>\n",
       "    <tr>\n",
       "      <th>13395</th>\n",
       "      <td>1440990</td>\n",
       "      <td>1325958</td>\n",
       "      <td>actor</td>\n",
       "    </tr>\n",
       "    <tr>\n",
       "      <th>13396</th>\n",
       "      <td>1293034</td>\n",
       "      <td>1325958</td>\n",
       "      <td>actor</td>\n",
       "    </tr>\n",
       "    <tr>\n",
       "      <th>13397</th>\n",
       "      <td>1473362</td>\n",
       "      <td>1325958</td>\n",
       "      <td>actor</td>\n",
       "    </tr>\n",
       "  </tbody>\n",
       "</table>\n",
       "<p>13398 rows × 3 columns</p>\n",
       "</div>"
      ],
      "text/plain": [
       "       person_id  movie_id movie_role\n",
       "0        1349765  26752088   director\n",
       "1        1047973   1292052   director\n",
       "2        1054524   3541415   director\n",
       "3        1328441  26794435   director\n",
       "4        1054439   1291561   director\n",
       "...          ...       ...        ...\n",
       "13393    1150778   1325958      actor\n",
       "13394    1054487   1325958      actor\n",
       "13395    1440990   1325958      actor\n",
       "13396    1293034   1325958      actor\n",
       "13397    1473362   1325958      actor\n",
       "\n",
       "[13398 rows x 3 columns]"
      ]
     },
     "execution_count": 6,
     "metadata": {},
     "output_type": "execute_result"
    }
   ],
   "source": [
    "relations"
   ]
  },
  {
   "cell_type": "code",
   "execution_count": 7,
   "id": "66b772f9-559a-457c-9a4b-c9dd30955f39",
   "metadata": {},
   "outputs": [],
   "source": [
    "db.session.close()"
   ]
  },
  {
   "cell_type": "code",
   "execution_count": null,
   "id": "88efa2ff-dcb9-4cca-91a8-d821582902bb",
   "metadata": {},
   "outputs": [],
   "source": []
  }
 ],
 "metadata": {
  "kernelspec": {
   "display_name": "Python 3 (ipykernel)",
   "language": "python",
   "name": "python3"
  },
  "language_info": {
   "codemirror_mode": {
    "name": "ipython",
    "version": 3
   },
   "file_extension": ".py",
   "mimetype": "text/x-python",
   "name": "python",
   "nbconvert_exporter": "python",
   "pygments_lexer": "ipython3",
   "version": "3.10.9"
  }
 },
 "nbformat": 4,
 "nbformat_minor": 5
}
