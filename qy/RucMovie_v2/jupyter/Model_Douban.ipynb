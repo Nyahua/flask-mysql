{
 "cells": [
  {
   "cell_type": "code",
   "execution_count": 12,
   "id": "9f113389-976f-4863-a32c-6306289d94a7",
   "metadata": {},
   "outputs": [],
   "source": [
    "from flask import Flask\n",
    "from flask_sqlalchemy import SQLAlchemy\n",
    "from sqlalchemy import text as query_text\n",
    "from sqlalchemy.sql import func\n",
    "import os\n",
    "\n",
    "import pandas as pd\n",
    "import numpy as np\n",
    "\n",
    "app = Flask(__name__)\n",
    "# Configure SQLite database\n",
    "app.config['SQLALCHEMY_DATABASE_URI'] = 'sqlite:///' + os.path.join(app.root_path, '../movie.db')\n",
    "app.config['SQLALCHEMY_TRACK_MODIFICATIONS'] = False\n",
    "app.app_context().push()\n",
    "\n",
    "db = SQLAlchemy(app)\n",
    "\n",
    "class DoubanMovie(db.Model):\n",
    "    __tablename__ = 'douban_movies'\n",
    "\n",
    "    movie_id = db.Column(db.Integer, primary_key=True)\n",
    "    movie_name = db.Column(db.String(20))\n",
    "    release_date = db.Column(db.String(15))\n",
    "    country = db.Column(db.String(20))\n",
    "    movie_type = db.Column(db.String(10))\n",
    "    release_year = db.Column(db.Integer)\n",
    "    description = db.Column(db.Text)\n",
    "    douban_url = db.Column(db.String(255))\n",
    "    poster  = db.Column(db.String(255))\n",
    "    douban_rate  = db.Column(db.Float)\n",
    "    rating_count = db.Column(db.Integer)\n",
    "    \n",
    "    def __repr__(self):\n",
    "        return f'<Douban {self.movie_name}>' "
   ]
  },
  {
   "cell_type": "code",
   "execution_count": 110,
   "id": "e1737cca-16b0-4f83-92ae-dffd6cd0c6fc",
   "metadata": {},
   "outputs": [],
   "source": [
    "movies = pd.read_sql_table('douban_movies', con=db.engine)\n",
    "movies['link'] = movies.apply(lambda x: f\"\"\"<a href=\"{x['douban_url']}\">{x['douban_rate']}</a>\"\"\", axis=1)\n",
    "movies['release_year'] = movies.release_year.fillna(0).astype(np.int64)\n",
    "movies['short'] = movies.description.str.replace(r'\\n| |\\u3000', '', regex=True)\n",
    "movies['short'] = movies['short'].apply(lambda x: x if len(x)<155 else x[:155]+'...')\n",
    "movies['poster'] = movies.poster.apply(lambda x: f\"\"\"<img src=\"{x}\", height=\"100px\"></img>\"\"\")\n",
    "movies['country'] = movies.country.str.split('/', expand=True)[0]\n",
    "cols = ['movie_id', 'movie_name', 'release_year', 'movie_type',  'country', 'link', 'short', 'poster']\n",
    "vars = dict(movie_list = movies[cols].values.tolist(), ensure_ascii=True)\n"
   ]
  },
  {
   "cell_type": "code",
   "execution_count": 142,
   "id": "fb54a26c-660d-41e5-af26-b74fce84a8a1",
   "metadata": {},
   "outputs": [
    {
     "data": {
      "text/plain": [
       "0        英国 \n",
       "1         美国\n",
       "2      中国大陆 \n",
       "3        法国 \n",
       "4        美国 \n",
       "       ...  \n",
       "423     中国台湾\n",
       "424       美国\n",
       "425       美国\n",
       "426       印度\n",
       "427       韩国\n",
       "Name: 0, Length: 428, dtype: object"
      ]
     },
     "execution_count": 142,
     "metadata": {},
     "output_type": "execute_result"
    }
   ],
   "source": [
    "movies.country.str.split('/', expand=True)[0]"
   ]
  },
  {
   "cell_type": "code",
   "execution_count": 117,
   "id": "bbec34bd-fc0b-434f-a347-9c270ddfde39",
   "metadata": {},
   "outputs": [
    {
     "data": {
      "text/plain": [
       "Index(['movie_id', 'movie_name', 'release_date', 'country', 'movie_type',\n",
       "       'release_year', 'description', 'douban_url', 'poster', 'douban_rate',\n",
       "       'rating_count', 'link', 'short'],\n",
       "      dtype='object')"
      ]
     },
     "execution_count": 117,
     "metadata": {},
     "output_type": "execute_result"
    }
   ],
   "source": [
    "movies.columns"
   ]
  },
  {
   "cell_type": "code",
   "execution_count": 127,
   "id": "9d68f2e5-341d-46eb-b7d4-12be42cf54f4",
   "metadata": {},
   "outputs": [],
   "source": []
  },
  {
   "cell_type": "code",
   "execution_count": 138,
   "id": "31f45f49-456e-4d07-9570-c91c42d5b9d7",
   "metadata": {},
   "outputs": [
    {
     "data": {
      "text/plain": [
       "{'title': {'text': '大陆电影高分榜'},\n",
       " 'xAxis': {'min': 7,\n",
       "  'max': 10,\n",
       "  'type': 'value',\n",
       "  'position': 'top',\n",
       "  'splitLine': {'lineStyle': {'type': 'dashed'}}},\n",
       " 'yAxis': {'type': 'category',\n",
       "  'inverse': True,\n",
       "  'axisLine': {'show': False},\n",
       "  'axisLabel': {'show': False},\n",
       "  'axisTick': {'show': False},\n",
       "  'splitLine': {'show': False},\n",
       "  'data': ['霸王别姬, 9.6',\n",
       "   '大闹天宫, 9.4',\n",
       "   '末代皇帝, 9.3',\n",
       "   '鬼子来了, 9.3',\n",
       "   '哪吒闹海, 9.2',\n",
       "   '天书奇谭, 9.2',\n",
       "   '我不是药神, 9.0',\n",
       "   '让子弹飞, 9.0',\n",
       "   '可可西里, 8.9',\n",
       "   '阳光灿烂的日子, 8.8']},\n",
       " 'series': [{'name': '',\n",
       "   'type': 'bar',\n",
       "   'label': {'show': True, 'formatter': '{b}'},\n",
       "   'data': [9.6, 9.4, 9.3, 9.3, 9.2, 9.2, 9.0, 9.0, 8.9, 8.8]}]}"
      ]
     },
     "execution_count": 138,
     "metadata": {},
     "output_type": "execute_result"
    }
   ],
   "source": [
    "def hbar_option(title, y_category, x_data):\n",
    "    labels = [f\"{y}, {x}\" for y, x in zip(y_category, x_data)]\n",
    "    return {\n",
    "        'title': {'text': title},\n",
    "        'xAxis': {\n",
    "            'min': 7,\n",
    "            'max': 10,\n",
    "            'type': 'value',\n",
    "            'position': 'top',\n",
    "            'splitLine': {'lineStyle': {'type': 'dashed'}}\n",
    "        },\n",
    "        'yAxis': {\n",
    "            'type': 'category',\n",
    "            'inverse': True,\n",
    "            'axisLine': {'show': False},\n",
    "            'axisLabel': {'show': False},\n",
    "            'axisTick': {'show': False},\n",
    "            'splitLine': {'show': False},\n",
    "            'data': labels\n",
    "        },\n",
    "        'series': [\n",
    "            {\n",
    "                'name': '',\n",
    "                'type': 'bar',\n",
    "                'label': {'show': True, 'formatter': '{b}'},\n",
    "                'data': x_data\n",
    "            }\n",
    "        ]\n",
    "    }\n",
    "\n",
    "\n",
    "data = movies.loc[\n",
    "    movies.country.str.contains('大陆'), \n",
    "    ['movie_name', 'douban_rate']\n",
    "].sort_values('douban_rate', ascending=False)[:10].set_index('movie_name')\n",
    "\n",
    "hbar_option(\"大陆电影高分榜\", data.index.tolist(), data['douban_rate'].tolist())"
   ]
  },
  {
   "cell_type": "code",
   "execution_count": 139,
   "id": "1037632e-930f-4e5a-86ee-806d82809886",
   "metadata": {},
   "outputs": [
    {
     "data": {
      "text/plain": [
       "{'title': {'text': '港台电影高分榜'},\n",
       " 'xAxis': {'min': 7,\n",
       "  'max': 10,\n",
       "  'type': 'value',\n",
       "  'position': 'top',\n",
       "  'splitLine': {'lineStyle': {'type': 'dashed'}}},\n",
       " 'yAxis': {'type': 'category',\n",
       "  'inverse': True,\n",
       "  'axisLine': {'show': False},\n",
       "  'axisLabel': {'show': False},\n",
       "  'axisTick': {'show': False},\n",
       "  'splitLine': {'show': False},\n",
       "  'data': ['霸王别姬, 9.6',\n",
       "   '无间道, 9.3',\n",
       "   '饮食男女, 9.2',\n",
       "   '少年派的奇幻漂流, 9.1',\n",
       "   '让子弹飞, 9.0',\n",
       "   '喜宴, 9.0',\n",
       "   '春光乍泄, 9.0',\n",
       "   '可可西里, 8.9',\n",
       "   '牯岭街少年杀人事件, 8.9',\n",
       "   '花样年华, 8.8']},\n",
       " 'series': [{'name': '',\n",
       "   'type': 'bar',\n",
       "   'label': {'show': True, 'formatter': '{b}'},\n",
       "   'data': [9.6, 9.3, 9.2, 9.1, 9.0, 9.0, 9.0, 8.9, 8.9, 8.8]}]}"
      ]
     },
     "execution_count": 139,
     "metadata": {},
     "output_type": "execute_result"
    }
   ],
   "source": [
    "data = movies.loc[\n",
    "    movies.country.str.contains('香港|台湾'), \n",
    "    ['movie_name', 'douban_rate']\n",
    "].sort_values('douban_rate', ascending=False)[:10].set_index('movie_name')\n",
    "\n",
    "hbar_option(\"港台电影高分榜\", data.index.tolist(), data['douban_rate'].tolist())"
   ]
  },
  {
   "cell_type": "code",
   "execution_count": null,
   "id": "7bd0fe2b-9922-4054-80d4-2c214a4c0e4d",
   "metadata": {},
   "outputs": [],
   "source": []
  }
 ],
 "metadata": {
  "kernelspec": {
   "display_name": "Python 3 (ipykernel)",
   "language": "python",
   "name": "python3"
  },
  "language_info": {
   "codemirror_mode": {
    "name": "ipython",
    "version": 3
   },
   "file_extension": ".py",
   "mimetype": "text/x-python",
   "name": "python",
   "nbconvert_exporter": "python",
   "pygments_lexer": "ipython3",
   "version": "3.10.9"
  }
 },
 "nbformat": 4,
 "nbformat_minor": 5
}
