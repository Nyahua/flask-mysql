{
 "cells": [
  {
   "cell_type": "code",
   "execution_count": 11,
   "id": "745bfaac-9739-4c49-a63f-bae7c32c39a3",
   "metadata": {
    "tags": []
   },
   "outputs": [],
   "source": [
    "from flask import Flask, render_template\n",
    "from markupsafe import escape\n",
    "\n",
    "from flask_sqlalchemy import SQLAlchemy\n",
    "from sqlalchemy import text\n",
    "from sqlalchemy.sql import func\n",
    "import os\n",
    "\n",
    "app = Flask(__name__)\n",
    "app.config['SQLALCHEMY_DATABASE_URI'] = 'sqlite:///' + os.path.join(app.root_path, 'movie.db')\n",
    "app.config['SQLALCHEMY_TRACK_MODIFICATIONS'] = False \n",
    "app.app_context().push()\n",
    "\n",
    "db = SQLAlchemy(app)\n",
    "\n",
    "# many to many relation\n",
    "movie_actor_association = db.Table(\n",
    "    'movie_actor_association',\n",
    "    db.Column('movie_id', db.Integer, db.ForeignKey('movie_info.movie_id')),\n",
    "    db.Column('actor_id', db.Integer, db.ForeignKey('actor_info.actor_id')),\n",
    ")\n",
    "\n",
    "movie_director_association = db.Table(\n",
    "    'movie_director_association',\n",
    "    db.Column('movie_id', db.Integer, db.ForeignKey('movie_info.movie_id')),\n",
    "    db.Column('actor_id', db.Integer, db.ForeignKey('actor_info.actor_id')),\n",
    ")\n",
    "\n",
    "class Movie(db.Model):\n",
    "    __tablename__ = 'movie_info'\n",
    "\n",
    "    movie_id = db.Column(db.Integer, primary_key=True, autoincrement=True)\n",
    "    movie_name = db.Column(db.String(20))\n",
    "    release_date = db.Column(db.String(15))\n",
    "    country = db.Column(db.String(20))\n",
    "    movie_type = db.Column(db.String(10))\n",
    "    release_year = db.Column(db.Integer)\n",
    "    \n",
    "    moviebox = db.relationship('MovieBox', back_populates='movies', uselist=False)\n",
    "    actors = db.relationship('Actor', secondary=movie_actor_association, back_populates='movies')\n",
    "    director = db.relationship('Actor', secondary=movie_director_association, back_populates='movies')\n",
    "    \n",
    "    def __repr__(self):\n",
    "        return f'<Movie {self.movie_name}>'\n",
    "    \n",
    "class Actor(db.Model):\n",
    "    __tablename__ = 'actor_info'\n",
    "\n",
    "    actor_id = db.Column(db.Integer, primary_key=True, autoincrement=True)\n",
    "    actor_name = db.Column(db.String(20))\n",
    "    gender = db.Column(db.String(2))\n",
    "    country = db.Column(db.String(20))\n",
    "    \n",
    "    movies = db.relationship('Movie', secondary=movie_actor_association, back_populates='actors')\n",
    "    \n",
    "    def __repr__(self):\n",
    "        return f'<Actor {self.actor_name}>'    \n",
    "    \n",
    "# one to one relation\n",
    "class MovieBox(db.Model):\n",
    "    __tablename__ = 'movie_box'\n",
    "    movie_id = db.Column(db.String(10), db.ForeignKey('movie_info.movie_id'), unique=True, nullable=False, primary_key=True)\n",
    "    movie_box = db.Column(db.Float)\n",
    "    movies = db.relationship('Movie', back_populates='moviebox')\n",
    "\n",
    "movies = Movie.query.all()"
   ]
  },
  {
   "cell_type": "code",
   "execution_count": 22,
   "id": "7377a194-10da-460b-848e-1174bc0ef254",
   "metadata": {
    "tags": []
   },
   "outputs": [
    {
     "data": {
      "text/plain": [
       "[<Actor 吴京>, <Actor 易烊千玺>]"
      ]
     },
     "execution_count": 22,
     "metadata": {},
     "output_type": "execute_result"
    }
   ],
   "source": [
    "movies[-2].actors"
   ]
  },
  {
   "cell_type": "code",
   "execution_count": 21,
   "id": "02b42ed0-780d-4e43-8ace-a3379996fb9b",
   "metadata": {
    "tags": []
   },
   "outputs": [
    {
     "data": {
      "text/plain": [
       "<Movie 长津湖>"
      ]
     },
     "execution_count": 21,
     "metadata": {},
     "output_type": "execute_result"
    }
   ],
   "source": [
    "movies[-2]"
   ]
  },
  {
   "cell_type": "code",
   "execution_count": null,
   "id": "02e9afb6-4fa0-4848-b741-85f24ebf7866",
   "metadata": {},
   "outputs": [],
   "source": []
  }
 ],
 "metadata": {
  "kernelspec": {
   "display_name": "Python 3 (ipykernel)",
   "language": "python",
   "name": "python3"
  },
  "language_info": {
   "codemirror_mode": {
    "name": "ipython",
    "version": 3
   },
   "file_extension": ".py",
   "mimetype": "text/x-python",
   "name": "python",
   "nbconvert_exporter": "python",
   "pygments_lexer": "ipython3",
   "version": "3.11.5"
  }
 },
 "nbformat": 4,
 "nbformat_minor": 5
}
